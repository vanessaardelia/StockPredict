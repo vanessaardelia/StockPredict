{
 "cells": [
  {
   "cell_type": "markdown",
   "metadata": {},
   "source": [
    "# PREDICT AND CLASSIFICATION PRICE STOCKS TO HELP INVESTOR IN DIVERSIFICATION OF PORTOFOLIO\n",
    "\n",
    "Introduction:\n",
    "Dalam melakukan investasi, seorang investor harus mempertimbangkan berbagai faktor untuk mengurangi risiko kegagalan. Salah satu cara yang dapat dilakukan untuk mengurangi risiko kegagalan ialah membangun konsep diversifikasi saham. Konsep diversifikasi adalah menyusun portofolio dengan menyertakan berbagai volatilitas saham dengan tujuan untuk mengurangi risiko. Selain itu, aplikasi ini juga dapat memprediksi harga saham di masa yang akan datang\n",
    "\n"
   ]
  },
  {
   "cell_type": "markdown",
   "metadata": {},
   "source": [
    "# Import Library\n",
    "Impor library yang diperlukan"
   ]
  },
  {
   "cell_type": "code",
   "execution_count": 1,
   "metadata": {},
   "outputs": [],
   "source": [
    "import numpy as np\n",
    "import os\n",
    "import pandas as pd\n",
    "import datetime\n",
    "\n",
    "import matplotlib\n",
    "import matplotlib.pyplot as plt\n",
    "%matplotlib inline"
   ]
  },
  {
   "cell_type": "markdown",
   "metadata": {},
   "source": [
    "# Membaca Data\n",
    "Data yang diguanakan adalah Dow Jones Index"
   ]
  },
  {
   "cell_type": "code",
   "execution_count": 2,
   "metadata": {},
   "outputs": [
    {
     "data": {
      "text/html": [
       "<div>\n",
       "<style scoped>\n",
       "    .dataframe tbody tr th:only-of-type {\n",
       "        vertical-align: middle;\n",
       "    }\n",
       "\n",
       "    .dataframe tbody tr th {\n",
       "        vertical-align: top;\n",
       "    }\n",
       "\n",
       "    .dataframe thead th {\n",
       "        text-align: right;\n",
       "    }\n",
       "</style>\n",
       "<table border=\"1\" class=\"dataframe\">\n",
       "  <thead>\n",
       "    <tr style=\"text-align: right;\">\n",
       "      <th></th>\n",
       "      <th>quarter</th>\n",
       "      <th>stock</th>\n",
       "      <th>date</th>\n",
       "      <th>open</th>\n",
       "      <th>high</th>\n",
       "      <th>low</th>\n",
       "      <th>close</th>\n",
       "      <th>volume</th>\n",
       "      <th>percent_change_price</th>\n",
       "      <th>percent_change_volume_over_last_wk</th>\n",
       "      <th>previous_weeks_volume</th>\n",
       "      <th>next_weeks_open</th>\n",
       "      <th>next_weeks_close</th>\n",
       "      <th>percent_change_next_weeks_price</th>\n",
       "      <th>days_to_next_dividend</th>\n",
       "      <th>percent_return_next_dividend</th>\n",
       "    </tr>\n",
       "  </thead>\n",
       "  <tbody>\n",
       "    <tr>\n",
       "      <td>0</td>\n",
       "      <td>1</td>\n",
       "      <td>AA</td>\n",
       "      <td>1/7/2011</td>\n",
       "      <td>$15.82</td>\n",
       "      <td>$16.72</td>\n",
       "      <td>$15.78</td>\n",
       "      <td>$16.42</td>\n",
       "      <td>239655616</td>\n",
       "      <td>3.79267</td>\n",
       "      <td>NaN</td>\n",
       "      <td>NaN</td>\n",
       "      <td>$16.71</td>\n",
       "      <td>$15.97</td>\n",
       "      <td>-4.428490</td>\n",
       "      <td>26</td>\n",
       "      <td>0.182704</td>\n",
       "    </tr>\n",
       "    <tr>\n",
       "      <td>1</td>\n",
       "      <td>1</td>\n",
       "      <td>AA</td>\n",
       "      <td>1/14/2011</td>\n",
       "      <td>$16.71</td>\n",
       "      <td>$16.71</td>\n",
       "      <td>$15.64</td>\n",
       "      <td>$15.97</td>\n",
       "      <td>242963398</td>\n",
       "      <td>-4.42849</td>\n",
       "      <td>1.380223</td>\n",
       "      <td>239655616.0</td>\n",
       "      <td>$16.19</td>\n",
       "      <td>$15.79</td>\n",
       "      <td>-2.470660</td>\n",
       "      <td>19</td>\n",
       "      <td>0.187852</td>\n",
       "    </tr>\n",
       "    <tr>\n",
       "      <td>2</td>\n",
       "      <td>1</td>\n",
       "      <td>AA</td>\n",
       "      <td>1/21/2011</td>\n",
       "      <td>$16.19</td>\n",
       "      <td>$16.38</td>\n",
       "      <td>$15.60</td>\n",
       "      <td>$15.79</td>\n",
       "      <td>138428495</td>\n",
       "      <td>-2.47066</td>\n",
       "      <td>-43.024959</td>\n",
       "      <td>242963398.0</td>\n",
       "      <td>$15.87</td>\n",
       "      <td>$16.13</td>\n",
       "      <td>1.638310</td>\n",
       "      <td>12</td>\n",
       "      <td>0.189994</td>\n",
       "    </tr>\n",
       "    <tr>\n",
       "      <td>3</td>\n",
       "      <td>1</td>\n",
       "      <td>AA</td>\n",
       "      <td>1/28/2011</td>\n",
       "      <td>$15.87</td>\n",
       "      <td>$16.63</td>\n",
       "      <td>$15.82</td>\n",
       "      <td>$16.13</td>\n",
       "      <td>151379173</td>\n",
       "      <td>1.63831</td>\n",
       "      <td>9.355500</td>\n",
       "      <td>138428495.0</td>\n",
       "      <td>$16.18</td>\n",
       "      <td>$17.14</td>\n",
       "      <td>5.933250</td>\n",
       "      <td>5</td>\n",
       "      <td>0.185989</td>\n",
       "    </tr>\n",
       "    <tr>\n",
       "      <td>4</td>\n",
       "      <td>1</td>\n",
       "      <td>AA</td>\n",
       "      <td>2/4/2011</td>\n",
       "      <td>$16.18</td>\n",
       "      <td>$17.39</td>\n",
       "      <td>$16.18</td>\n",
       "      <td>$17.14</td>\n",
       "      <td>154387761</td>\n",
       "      <td>5.93325</td>\n",
       "      <td>1.987452</td>\n",
       "      <td>151379173.0</td>\n",
       "      <td>$17.33</td>\n",
       "      <td>$17.37</td>\n",
       "      <td>0.230814</td>\n",
       "      <td>97</td>\n",
       "      <td>0.175029</td>\n",
       "    </tr>\n",
       "  </tbody>\n",
       "</table>\n",
       "</div>"
      ],
      "text/plain": [
       "   quarter stock       date    open    high     low   close     volume  \\\n",
       "0        1    AA   1/7/2011  $15.82  $16.72  $15.78  $16.42  239655616   \n",
       "1        1    AA  1/14/2011  $16.71  $16.71  $15.64  $15.97  242963398   \n",
       "2        1    AA  1/21/2011  $16.19  $16.38  $15.60  $15.79  138428495   \n",
       "3        1    AA  1/28/2011  $15.87  $16.63  $15.82  $16.13  151379173   \n",
       "4        1    AA   2/4/2011  $16.18  $17.39  $16.18  $17.14  154387761   \n",
       "\n",
       "   percent_change_price  percent_change_volume_over_last_wk  \\\n",
       "0               3.79267                                 NaN   \n",
       "1              -4.42849                            1.380223   \n",
       "2              -2.47066                          -43.024959   \n",
       "3               1.63831                            9.355500   \n",
       "4               5.93325                            1.987452   \n",
       "\n",
       "   previous_weeks_volume next_weeks_open next_weeks_close  \\\n",
       "0                    NaN          $16.71           $15.97   \n",
       "1            239655616.0          $16.19           $15.79   \n",
       "2            242963398.0          $15.87           $16.13   \n",
       "3            138428495.0          $16.18           $17.14   \n",
       "4            151379173.0          $17.33           $17.37   \n",
       "\n",
       "   percent_change_next_weeks_price  days_to_next_dividend  \\\n",
       "0                        -4.428490                     26   \n",
       "1                        -2.470660                     19   \n",
       "2                         1.638310                     12   \n",
       "3                         5.933250                      5   \n",
       "4                         0.230814                     97   \n",
       "\n",
       "   percent_return_next_dividend  \n",
       "0                      0.182704  \n",
       "1                      0.187852  \n",
       "2                      0.189994  \n",
       "3                      0.185989  \n",
       "4                      0.175029  "
      ]
     },
     "execution_count": 2,
     "metadata": {},
     "output_type": "execute_result"
    }
   ],
   "source": [
    "data = pd.read_csv('dow_jones_index.data')\n",
    "data.head()"
   ]
  },
  {
   "cell_type": "markdown",
   "metadata": {},
   "source": [
    "# Preprocessing Data\n",
    "Menghapus data yang tidak diperlukan dan mengubah tipa data "
   ]
  },
  {
   "cell_type": "code",
   "execution_count": 3,
   "metadata": {},
   "outputs": [],
   "source": [
    "# Menghapus field yang tidak terpakai\n",
    "# data.drop(['percent_change_price', 'percent_change_volume_over_last_wk','previous_weeks_volume', 'next_weeks_open', 'next_weeks_close', 'percent_change_next_weeks_price', 'days_to_next_dividend', 'percent_return_next_dividend'], axis = 1, inplace = True) \n",
    "data.drop(['percent_change_volume_over_last_wk','previous_weeks_volume', 'next_weeks_open', 'next_weeks_close', 'days_to_next_dividend', 'percent_return_next_dividend'], axis = 1, inplace = True) \n"
   ]
  },
  {
   "cell_type": "code",
   "execution_count": 4,
   "metadata": {},
   "outputs": [],
   "source": [
    "#Function untuk mengubah object ke dalam bentuk float64\n",
    "def convert_currency(val):\n",
    "    new_val = val.replace('.','.').replace('$', '')\n",
    "    return float(new_val)"
   ]
  },
  {
   "cell_type": "code",
   "execution_count": 5,
   "metadata": {},
   "outputs": [],
   "source": [
    "# Mengubah data ke float64\n",
    "data['close'] = data['close'].apply(convert_currency)\n",
    "data['open'] = data['open'].apply(convert_currency)\n",
    "data['high'] = data['high'].apply(convert_currency)\n",
    "data['low'] = data['low'].apply(convert_currency)"
   ]
  },
  {
   "cell_type": "code",
   "execution_count": 6,
   "metadata": {},
   "outputs": [
    {
     "data": {
      "text/html": [
       "<div>\n",
       "<style scoped>\n",
       "    .dataframe tbody tr th:only-of-type {\n",
       "        vertical-align: middle;\n",
       "    }\n",
       "\n",
       "    .dataframe tbody tr th {\n",
       "        vertical-align: top;\n",
       "    }\n",
       "\n",
       "    .dataframe thead th {\n",
       "        text-align: right;\n",
       "    }\n",
       "</style>\n",
       "<table border=\"1\" class=\"dataframe\">\n",
       "  <thead>\n",
       "    <tr style=\"text-align: right;\">\n",
       "      <th></th>\n",
       "      <th>quarter</th>\n",
       "      <th>stock</th>\n",
       "      <th>date</th>\n",
       "      <th>open</th>\n",
       "      <th>high</th>\n",
       "      <th>low</th>\n",
       "      <th>close</th>\n",
       "      <th>volume</th>\n",
       "      <th>percent_change_price</th>\n",
       "      <th>percent_change_next_weeks_price</th>\n",
       "    </tr>\n",
       "  </thead>\n",
       "  <tbody>\n",
       "    <tr>\n",
       "      <td>0</td>\n",
       "      <td>1</td>\n",
       "      <td>AA</td>\n",
       "      <td>20110107</td>\n",
       "      <td>15.82</td>\n",
       "      <td>16.72</td>\n",
       "      <td>15.78</td>\n",
       "      <td>16.42</td>\n",
       "      <td>239655616</td>\n",
       "      <td>3.79267</td>\n",
       "      <td>-4.428490</td>\n",
       "    </tr>\n",
       "    <tr>\n",
       "      <td>1</td>\n",
       "      <td>1</td>\n",
       "      <td>AA</td>\n",
       "      <td>20110114</td>\n",
       "      <td>16.71</td>\n",
       "      <td>16.71</td>\n",
       "      <td>15.64</td>\n",
       "      <td>15.97</td>\n",
       "      <td>242963398</td>\n",
       "      <td>-4.42849</td>\n",
       "      <td>-2.470660</td>\n",
       "    </tr>\n",
       "    <tr>\n",
       "      <td>2</td>\n",
       "      <td>1</td>\n",
       "      <td>AA</td>\n",
       "      <td>20110121</td>\n",
       "      <td>16.19</td>\n",
       "      <td>16.38</td>\n",
       "      <td>15.60</td>\n",
       "      <td>15.79</td>\n",
       "      <td>138428495</td>\n",
       "      <td>-2.47066</td>\n",
       "      <td>1.638310</td>\n",
       "    </tr>\n",
       "    <tr>\n",
       "      <td>3</td>\n",
       "      <td>1</td>\n",
       "      <td>AA</td>\n",
       "      <td>20110128</td>\n",
       "      <td>15.87</td>\n",
       "      <td>16.63</td>\n",
       "      <td>15.82</td>\n",
       "      <td>16.13</td>\n",
       "      <td>151379173</td>\n",
       "      <td>1.63831</td>\n",
       "      <td>5.933250</td>\n",
       "    </tr>\n",
       "    <tr>\n",
       "      <td>4</td>\n",
       "      <td>1</td>\n",
       "      <td>AA</td>\n",
       "      <td>20110204</td>\n",
       "      <td>16.18</td>\n",
       "      <td>17.39</td>\n",
       "      <td>16.18</td>\n",
       "      <td>17.14</td>\n",
       "      <td>154387761</td>\n",
       "      <td>5.93325</td>\n",
       "      <td>0.230814</td>\n",
       "    </tr>\n",
       "  </tbody>\n",
       "</table>\n",
       "</div>"
      ],
      "text/plain": [
       "   quarter stock      date   open   high    low  close     volume  \\\n",
       "0        1    AA  20110107  15.82  16.72  15.78  16.42  239655616   \n",
       "1        1    AA  20110114  16.71  16.71  15.64  15.97  242963398   \n",
       "2        1    AA  20110121  16.19  16.38  15.60  15.79  138428495   \n",
       "3        1    AA  20110128  15.87  16.63  15.82  16.13  151379173   \n",
       "4        1    AA  20110204  16.18  17.39  16.18  17.14  154387761   \n",
       "\n",
       "   percent_change_price  percent_change_next_weeks_price  \n",
       "0               3.79267                        -4.428490  \n",
       "1              -4.42849                        -2.470660  \n",
       "2              -2.47066                         1.638310  \n",
       "3               1.63831                         5.933250  \n",
       "4               5.93325                         0.230814  "
      ]
     },
     "execution_count": 6,
     "metadata": {},
     "output_type": "execute_result"
    }
   ],
   "source": [
    "# Mengubah date ke dalam bentuk int\n",
    "data['date'] = pd.to_datetime(data['date'])\n",
    "data['date'] = data['date'].dt.strftime(\"%Y%m%d\").astype(int)\n",
    "data.head()"
   ]
  },
  {
   "cell_type": "code",
   "execution_count": 7,
   "metadata": {},
   "outputs": [
    {
     "name": "stdout",
     "output_type": "stream",
     "text": [
      "<class 'pandas.core.frame.DataFrame'>\n",
      "RangeIndex: 750 entries, 0 to 749\n",
      "Data columns (total 10 columns):\n",
      "quarter                            750 non-null int64\n",
      "stock                              750 non-null object\n",
      "date                               750 non-null int32\n",
      "open                               750 non-null float64\n",
      "high                               750 non-null float64\n",
      "low                                750 non-null float64\n",
      "close                              750 non-null float64\n",
      "volume                             750 non-null int64\n",
      "percent_change_price               750 non-null float64\n",
      "percent_change_next_weeks_price    750 non-null float64\n",
      "dtypes: float64(6), int32(1), int64(2), object(1)\n",
      "memory usage: 55.8+ KB\n"
     ]
    }
   ],
   "source": [
    "# Info\n",
    "data.info()"
   ]
  },
  {
   "cell_type": "markdown",
   "metadata": {},
   "source": [
    "# Analisis data dari 1 Company"
   ]
  },
  {
   "cell_type": "markdown",
   "metadata": {},
   "source": [
    "a. Melakukan analisis data dengan menggunakan 1 Company (misal: menggunakan data company CSCO)"
   ]
  },
  {
   "cell_type": "code",
   "execution_count": 8,
   "metadata": {},
   "outputs": [
    {
     "data": {
      "text/plain": [
       "(25, 10)"
      ]
     },
     "execution_count": 8,
     "metadata": {},
     "output_type": "execute_result"
    }
   ],
   "source": [
    "# Menggunakan 1 stock CSCO\n",
    "stock_name = 'CSCO'\n",
    "stock_csco = data[data['stock'] == stock_name]\n",
    "stock_csco.shape"
   ]
  },
  {
   "cell_type": "markdown",
   "metadata": {},
   "source": [
    "b. Melakukan pemeriksaan terhadap distribusi data untuk melakukan scaling"
   ]
  },
  {
   "cell_type": "code",
   "execution_count": 9,
   "metadata": {},
   "outputs": [
    {
     "data": {
      "text/html": [
       "<div>\n",
       "<style scoped>\n",
       "    .dataframe tbody tr th:only-of-type {\n",
       "        vertical-align: middle;\n",
       "    }\n",
       "\n",
       "    .dataframe tbody tr th {\n",
       "        vertical-align: top;\n",
       "    }\n",
       "\n",
       "    .dataframe thead th {\n",
       "        text-align: right;\n",
       "    }\n",
       "</style>\n",
       "<table border=\"1\" class=\"dataframe\">\n",
       "  <thead>\n",
       "    <tr style=\"text-align: right;\">\n",
       "      <th></th>\n",
       "      <th>quarter</th>\n",
       "      <th>date</th>\n",
       "      <th>open</th>\n",
       "      <th>high</th>\n",
       "      <th>low</th>\n",
       "      <th>close</th>\n",
       "      <th>volume</th>\n",
       "      <th>percent_change_price</th>\n",
       "      <th>percent_change_next_weeks_price</th>\n",
       "    </tr>\n",
       "  </thead>\n",
       "  <tbody>\n",
       "    <tr>\n",
       "      <td>count</td>\n",
       "      <td>25.000000</td>\n",
       "      <td>2.500000e+01</td>\n",
       "      <td>25.000000</td>\n",
       "      <td>25.000000</td>\n",
       "      <td>25.000000</td>\n",
       "      <td>25.000000</td>\n",
       "      <td>2.500000e+01</td>\n",
       "      <td>25.000000</td>\n",
       "      <td>25.000000</td>\n",
       "    </tr>\n",
       "    <tr>\n",
       "      <td>mean</td>\n",
       "      <td>1.520000</td>\n",
       "      <td>2.011037e+07</td>\n",
       "      <td>18.122400</td>\n",
       "      <td>18.448400</td>\n",
       "      <td>17.604000</td>\n",
       "      <td>17.899200</td>\n",
       "      <td>3.586616e+08</td>\n",
       "      <td>-1.178297</td>\n",
       "      <td>-1.033689</td>\n",
       "    </tr>\n",
       "    <tr>\n",
       "      <td>std</td>\n",
       "      <td>0.509902</td>\n",
       "      <td>1.706148e+02</td>\n",
       "      <td>1.958254</td>\n",
       "      <td>2.040234</td>\n",
       "      <td>1.834014</td>\n",
       "      <td>1.984095</td>\n",
       "      <td>1.665396e+08</td>\n",
       "      <td>3.949663</td>\n",
       "      <td>4.152548</td>\n",
       "    </tr>\n",
       "    <tr>\n",
       "      <td>min</td>\n",
       "      <td>1.000000</td>\n",
       "      <td>2.011011e+07</td>\n",
       "      <td>14.940000</td>\n",
       "      <td>15.280000</td>\n",
       "      <td>14.780000</td>\n",
       "      <td>14.930000</td>\n",
       "      <td>1.547083e+08</td>\n",
       "      <td>-15.422900</td>\n",
       "      <td>-15.422900</td>\n",
       "    </tr>\n",
       "    <tr>\n",
       "      <td>25%</td>\n",
       "      <td>1.000000</td>\n",
       "      <td>2.011022e+07</td>\n",
       "      <td>16.880000</td>\n",
       "      <td>16.960000</td>\n",
       "      <td>16.520000</td>\n",
       "      <td>16.880000</td>\n",
       "      <td>2.656873e+08</td>\n",
       "      <td>-2.356270</td>\n",
       "      <td>-2.356270</td>\n",
       "    </tr>\n",
       "    <tr>\n",
       "      <td>50%</td>\n",
       "      <td>2.000000</td>\n",
       "      <td>2.011040e+07</td>\n",
       "      <td>17.530000</td>\n",
       "      <td>17.880000</td>\n",
       "      <td>17.000000</td>\n",
       "      <td>17.520000</td>\n",
       "      <td>3.086446e+08</td>\n",
       "      <td>-0.480513</td>\n",
       "      <td>-0.480513</td>\n",
       "    </tr>\n",
       "    <tr>\n",
       "      <td>75%</td>\n",
       "      <td>2.000000</td>\n",
       "      <td>2.011051e+07</td>\n",
       "      <td>18.840000</td>\n",
       "      <td>18.950000</td>\n",
       "      <td>18.560000</td>\n",
       "      <td>18.700000</td>\n",
       "      <td>4.121981e+08</td>\n",
       "      <td>0.355450</td>\n",
       "      <td>0.355450</td>\n",
       "    </tr>\n",
       "    <tr>\n",
       "      <td>max</td>\n",
       "      <td>2.000000</td>\n",
       "      <td>2.011062e+07</td>\n",
       "      <td>22.110000</td>\n",
       "      <td>22.340000</td>\n",
       "      <td>20.730000</td>\n",
       "      <td>22.050000</td>\n",
       "      <td>1.000362e+09</td>\n",
       "      <td>5.351170</td>\n",
       "      <td>6.157970</td>\n",
       "    </tr>\n",
       "  </tbody>\n",
       "</table>\n",
       "</div>"
      ],
      "text/plain": [
       "         quarter          date       open       high        low      close  \\\n",
       "count  25.000000  2.500000e+01  25.000000  25.000000  25.000000  25.000000   \n",
       "mean    1.520000  2.011037e+07  18.122400  18.448400  17.604000  17.899200   \n",
       "std     0.509902  1.706148e+02   1.958254   2.040234   1.834014   1.984095   \n",
       "min     1.000000  2.011011e+07  14.940000  15.280000  14.780000  14.930000   \n",
       "25%     1.000000  2.011022e+07  16.880000  16.960000  16.520000  16.880000   \n",
       "50%     2.000000  2.011040e+07  17.530000  17.880000  17.000000  17.520000   \n",
       "75%     2.000000  2.011051e+07  18.840000  18.950000  18.560000  18.700000   \n",
       "max     2.000000  2.011062e+07  22.110000  22.340000  20.730000  22.050000   \n",
       "\n",
       "             volume  percent_change_price  percent_change_next_weeks_price  \n",
       "count  2.500000e+01             25.000000                        25.000000  \n",
       "mean   3.586616e+08             -1.178297                        -1.033689  \n",
       "std    1.665396e+08              3.949663                         4.152548  \n",
       "min    1.547083e+08            -15.422900                       -15.422900  \n",
       "25%    2.656873e+08             -2.356270                        -2.356270  \n",
       "50%    3.086446e+08             -0.480513                        -0.480513  \n",
       "75%    4.121981e+08              0.355450                         0.355450  \n",
       "max    1.000362e+09              5.351170                         6.157970  "
      ]
     },
     "execution_count": 9,
     "metadata": {},
     "output_type": "execute_result"
    }
   ],
   "source": [
    "# data CSCO\n",
    "stock_csco.describe()"
   ]
  },
  {
   "cell_type": "markdown",
   "metadata": {},
   "source": [
    "c. Menambahkan fitur-fitur baru untuk memahami variasi harga stock dalam 1 minggu dan dari minggu sebelumya, fitur yang ditambahkan ini akan membantu dalam memprediksi harga penutupan saham dengan akurasi terbaik serta membantu model untuk mengklasifikasi volatilitas stock."
   ]
  },
  {
   "cell_type": "code",
   "execution_count": 10,
   "metadata": {},
   "outputs": [
    {
     "data": {
      "text/html": [
       "<div>\n",
       "<style scoped>\n",
       "    .dataframe tbody tr th:only-of-type {\n",
       "        vertical-align: middle;\n",
       "    }\n",
       "\n",
       "    .dataframe tbody tr th {\n",
       "        vertical-align: top;\n",
       "    }\n",
       "\n",
       "    .dataframe thead th {\n",
       "        text-align: right;\n",
       "    }\n",
       "</style>\n",
       "<table border=\"1\" class=\"dataframe\">\n",
       "  <thead>\n",
       "    <tr style=\"text-align: right;\">\n",
       "      <th></th>\n",
       "      <th>quarter</th>\n",
       "      <th>stock</th>\n",
       "      <th>date</th>\n",
       "      <th>open</th>\n",
       "      <th>high</th>\n",
       "      <th>low</th>\n",
       "      <th>close</th>\n",
       "      <th>volume</th>\n",
       "      <th>percent_change_price</th>\n",
       "      <th>percent_change_next_weeks_price</th>\n",
       "    </tr>\n",
       "  </thead>\n",
       "  <tbody>\n",
       "    <tr>\n",
       "      <td>60</td>\n",
       "      <td>1</td>\n",
       "      <td>CSCO</td>\n",
       "      <td>20110107</td>\n",
       "      <td>20.45</td>\n",
       "      <td>21.00</td>\n",
       "      <td>20.38</td>\n",
       "      <td>20.97</td>\n",
       "      <td>303545878</td>\n",
       "      <td>2.542790</td>\n",
       "      <td>1.289400</td>\n",
       "    </tr>\n",
       "    <tr>\n",
       "      <td>61</td>\n",
       "      <td>1</td>\n",
       "      <td>CSCO</td>\n",
       "      <td>20110114</td>\n",
       "      <td>20.94</td>\n",
       "      <td>21.23</td>\n",
       "      <td>20.70</td>\n",
       "      <td>21.21</td>\n",
       "      <td>154708263</td>\n",
       "      <td>1.289400</td>\n",
       "      <td>-2.356270</td>\n",
       "    </tr>\n",
       "    <tr>\n",
       "      <td>62</td>\n",
       "      <td>1</td>\n",
       "      <td>CSCO</td>\n",
       "      <td>20110121</td>\n",
       "      <td>21.22</td>\n",
       "      <td>21.33</td>\n",
       "      <td>20.50</td>\n",
       "      <td>20.72</td>\n",
       "      <td>193706863</td>\n",
       "      <td>-2.356270</td>\n",
       "      <td>0.431862</td>\n",
       "    </tr>\n",
       "    <tr>\n",
       "      <td>63</td>\n",
       "      <td>1</td>\n",
       "      <td>CSCO</td>\n",
       "      <td>20110128</td>\n",
       "      <td>20.84</td>\n",
       "      <td>21.61</td>\n",
       "      <td>20.73</td>\n",
       "      <td>20.93</td>\n",
       "      <td>265687272</td>\n",
       "      <td>0.431862</td>\n",
       "      <td>5.351170</td>\n",
       "    </tr>\n",
       "    <tr>\n",
       "      <td>64</td>\n",
       "      <td>1</td>\n",
       "      <td>CSCO</td>\n",
       "      <td>20110204</td>\n",
       "      <td>20.93</td>\n",
       "      <td>22.15</td>\n",
       "      <td>20.71</td>\n",
       "      <td>22.05</td>\n",
       "      <td>236334561</td>\n",
       "      <td>5.351170</td>\n",
       "      <td>-15.422900</td>\n",
       "    </tr>\n",
       "  </tbody>\n",
       "</table>\n",
       "</div>"
      ],
      "text/plain": [
       "    quarter stock      date   open   high    low  close     volume  \\\n",
       "60        1  CSCO  20110107  20.45  21.00  20.38  20.97  303545878   \n",
       "61        1  CSCO  20110114  20.94  21.23  20.70  21.21  154708263   \n",
       "62        1  CSCO  20110121  21.22  21.33  20.50  20.72  193706863   \n",
       "63        1  CSCO  20110128  20.84  21.61  20.73  20.93  265687272   \n",
       "64        1  CSCO  20110204  20.93  22.15  20.71  22.05  236334561   \n",
       "\n",
       "    percent_change_price  percent_change_next_weeks_price  \n",
       "60              2.542790                         1.289400  \n",
       "61              1.289400                        -2.356270  \n",
       "62             -2.356270                         0.431862  \n",
       "63              0.431862                         5.351170  \n",
       "64              5.351170                       -15.422900  "
      ]
     },
     "execution_count": 10,
     "metadata": {},
     "output_type": "execute_result"
    }
   ],
   "source": [
    "# Menampilkan 5 data teratas dari stock tersebut, beserta feature baru yang ditambahkan\n",
    "stock_csco.head()"
   ]
  },
  {
   "cell_type": "markdown",
   "metadata": {},
   "source": [
    "dari penambahan 2 feature baru diatas, dibuat representasi distribusinya dengan menggunakan graph:"
   ]
  },
  {
   "cell_type": "code",
   "execution_count": 11,
   "metadata": {},
   "outputs": [
    {
     "data": {
      "image/png": "[encoded data removed]",
      "text/plain": [
       "<Figure size 1440x1080 with 9 Axes>"
      ]
     },
     "metadata": {
      "needs_background": "light"
     },
     "output_type": "display_data"
    }
   ],
   "source": [
    "# merepresentasikan distribution pada 1 stock dengan menggunakan graph\n",
    "stock_csco.hist(bins=50, figsize=(20,15))\n",
    "plt.show()"
   ]
  },
  {
   "cell_type": "markdown",
   "metadata": {},
   "source": [
    "d. Merepresentasikan variasi closing price dari sebuah stock CSCO"
   ]
  },
  {
   "cell_type": "code",
   "execution_count": 12,
   "metadata": {},
   "outputs": [
    {
     "data": {
      "text/plain": [
       "<matplotlib.axes._subplots.AxesSubplot at 0x1b3c89d8c88>"
      ]
     },
     "execution_count": 12,
     "metadata": {},
     "output_type": "execute_result"
    },
    {
     "data": {
      "image/png": "[encoded data removed]",
      "text/plain": [
       "<Figure size 576x216 with 1 Axes>"
      ]
     },
     "metadata": {
      "needs_background": "light"
     },
     "output_type": "display_data"
    }
   ],
   "source": [
    "# Plotting variasi close\n",
    "stock_csco.plot(kind=\"line\", x=\"date\", y=\"close\", figsize=(8, 3))"
   ]
  },
  {
   "cell_type": "markdown",
   "metadata": {},
   "source": [
    "e. Membangun correlation matrix untuk mengetahui korelasi antara close price (target) dan fitur lainnya"
   ]
  },
  {
   "cell_type": "code",
   "execution_count": 13,
   "metadata": {},
   "outputs": [
    {
     "data": {
      "text/plain": [
       "close                              1.000000\n",
       "low                                0.991721\n",
       "high                               0.935658\n",
       "open                               0.914481\n",
       "percent_change_price               0.279775\n",
       "volume                            -0.235077\n",
       "percent_change_next_weeks_price   -0.273878\n",
       "quarter                           -0.743374\n",
       "date                              -0.921008\n",
       "Name: close, dtype: float64"
      ]
     },
     "execution_count": 13,
     "metadata": {},
     "output_type": "execute_result"
    }
   ],
   "source": [
    "corr_matrix = stock_csco.corr()\n",
    "corr_matrix['close'].sort_values(ascending=False)"
   ]
  },
  {
   "cell_type": "code",
   "execution_count": 14,
   "metadata": {},
   "outputs": [
    {
     "data": {
      "text/plain": [
       "array([[<matplotlib.axes._subplots.AxesSubplot object at 0x000001B3C8348408>,\n",
       "        <matplotlib.axes._subplots.AxesSubplot object at 0x000001B3C8362E88>,\n",
       "        <matplotlib.axes._subplots.AxesSubplot object at 0x000001B3C839BE88>,\n",
       "        <matplotlib.axes._subplots.AxesSubplot object at 0x000001B3C83CD0C8>,\n",
       "        <matplotlib.axes._subplots.AxesSubplot object at 0x000001B3C8407188>],\n",
       "       [<matplotlib.axes._subplots.AxesSubplot object at 0x000001B3C84402C8>,\n",
       "        <matplotlib.axes._subplots.AxesSubplot object at 0x000001B3C8477348>,\n",
       "        <matplotlib.axes._subplots.AxesSubplot object at 0x000001B3C84B5F08>,\n",
       "        <matplotlib.axes._subplots.AxesSubplot object at 0x000001B3C84B5FC8>,\n",
       "        <matplotlib.axes._subplots.AxesSubplot object at 0x000001B3C84F51C8>],\n",
       "       [<matplotlib.axes._subplots.AxesSubplot object at 0x000001B3C855B788>,\n",
       "        <matplotlib.axes._subplots.AxesSubplot object at 0x000001B3C8594848>,\n",
       "        <matplotlib.axes._subplots.AxesSubplot object at 0x000001B3C85CB988>,\n",
       "        <matplotlib.axes._subplots.AxesSubplot object at 0x000001B3C8606A88>,\n",
       "        <matplotlib.axes._subplots.AxesSubplot object at 0x000001B3C863FB48>],\n",
       "       [<matplotlib.axes._subplots.AxesSubplot object at 0x000001B3C8676C88>,\n",
       "        <matplotlib.axes._subplots.AxesSubplot object at 0x000001B3C86AED08>,\n",
       "        <matplotlib.axes._subplots.AxesSubplot object at 0x000001B3C86E7E08>,\n",
       "        <matplotlib.axes._subplots.AxesSubplot object at 0x000001B3C8720F48>,\n",
       "        <matplotlib.axes._subplots.AxesSubplot object at 0x000001B3C875E088>],\n",
       "       [<matplotlib.axes._subplots.AxesSubplot object at 0x000001B3C8797188>,\n",
       "        <matplotlib.axes._subplots.AxesSubplot object at 0x000001B3C87CE248>,\n",
       "        <matplotlib.axes._subplots.AxesSubplot object at 0x000001B3C8808388>,\n",
       "        <matplotlib.axes._subplots.AxesSubplot object at 0x000001B3C8840488>,\n",
       "        <matplotlib.axes._subplots.AxesSubplot object at 0x000001B3C8879588>]],\n",
       "      dtype=object)"
      ]
     },
     "execution_count": 14,
     "metadata": {},
     "output_type": "execute_result"
    },
    {
     "data": {
      "image/png": "[encoded data removed]",
      "text/plain": [
       "<Figure size 1440x1080 with 25 Axes>"
      ]
     },
     "metadata": {
      "needs_background": "light"
     },
     "output_type": "display_data"
    }
   ],
   "source": [
    "# Lihat representasi setiap atribut \n",
    "from pandas.plotting import scatter_matrix\n",
    "\n",
    "attributes = [\"high\", \"low\", \"open\", \"percent_change_price\", \"percent_change_next_weeks_price\"]\n",
    "scatter_matrix(stock_csco[attributes], figsize=(20, 15))"
   ]
  },
  {
   "cell_type": "markdown",
   "metadata": {},
   "source": [
    "f. Penggunaan Heatmap untuk feature correlation. Heatmap adalah sebuah peta yang menggambarkan persebaran lokasi dan frekuensi data dalam dengan pewarnaan. Heatmap adalah representasi grafis dari data di mana nilai-nilai individu yang terkandung dalam matriks yang direpresentasikan sebagai warna. "
   ]
  },
  {
   "cell_type": "code",
   "execution_count": 15,
   "metadata": {},
   "outputs": [
    {
     "data": {
      "image/png": "[encoded data removed]",
      "text/plain": [
       "<Figure size 576x576 with 2 Axes>"
      ]
     },
     "metadata": {
      "needs_background": "light"
     },
     "output_type": "display_data"
    }
   ],
   "source": [
    "import seaborn as sns\n",
    "\n",
    "# Korelasi antar variabel pada stock tersebut (CSCO)\n",
    "corr = stock_csco[[\"high\", \"low\", \"open\", \"percent_change_price\", \"percent_change_next_weeks_price\", \"volume\"]].corr()\n",
    "\n",
    "# generate mask\n",
    "mask = np.zeros_like(corr, dtype=np.bool)\n",
    "mask[np.triu_indices_from(mask)] = True\n",
    "\n",
    "# membuat plot\n",
    "f, ax = plt.subplots(figsize=(8, 8))\n",
    "\n",
    "# Atur warna cmap\n",
    "cmap = sns.diverging_palette(220, 10, as_cmap=True)\n",
    "\n",
    "# Menampilkan heatmap dengan mask dan ratio\n",
    "sns.heatmap(corr, mask=mask, cmap=cmap, vmax=.3,\n",
    "            square=True, \n",
    "            linewidths=.5, cbar_kws={\"shrink\": .5}, ax=ax);\n"
   ]
  },
  {
   "cell_type": "markdown",
   "metadata": {},
   "source": [
    "# REGRESSION MODEL untuk training data\n",
    "Dalam sub bagian ini, akan digunakan data 'close' dan 'date' dari dataset yang sudah diubah ke dalam bentuk int pada tahap sebelumnya. Hal ini dikarenakan regression hanya dapat memprediksi jenis data numerik. Juga, menghapus fitur target yang dekat dari fitur input dan menambahkan fitur target untuk mengukur akurasi prediksi. \n",
    "\n",
    "Jadi, ada data dependent dan independent yang digunakan. Data y_stock_axp (dependent) adalah data close sedangkan data X_stock_axp(independent) adalah data 'date'. Hal ini dikarenakan, stock sangat bergantung pada tanggal."
   ]
  },
  {
   "cell_type": "code",
   "execution_count": 16,
   "metadata": {},
   "outputs": [],
   "source": [
    "# Masih memanfaatkan data CSCO, membagi data ke dalam train dan test. Data test yang digunakan sebesar 20% dan \n",
    "# data train sebesar 80%\n",
    "\n",
    "from sklearn.model_selection import train_test_split\n",
    "from sklearn.preprocessing import StandardScaler,Normalizer\n",
    "\n",
    "X_stock_csco = np.array(stock_csco['date']).reshape(-1,1)\n",
    "y_stock_csco = np.array(stock_csco['close'])\n",
    "\n",
    "X_stock_train, X_stock_test, y_stock_train, y_stock_test = train_test_split(\n",
    "    X_stock_csco, y_stock_csco, test_size=0.2, random_state=42)"
   ]
  },
  {
   "cell_type": "markdown",
   "metadata": {},
   "source": [
    "# Data Pipeline\n",
    "Dalam tahap ini, dilakukan preprocessing kembali dalam bentuk pipeline. Untuk mengatasi missing value akan digunakan metode median. Selain itu, dilakukan juga proses scaling data dengan menggunakan StandardScaler() yang membuat tiap fitur memiliki nilai rata-rata 0 dan variansi 1. "
   ]
  },
  {
   "cell_type": "code",
   "execution_count": 17,
   "metadata": {},
   "outputs": [
    {
     "name": "stderr",
     "output_type": "stream",
     "text": [
      "C:\\Users\\Arby\\Anaconda3\\lib\\site-packages\\sklearn\\utils\\deprecation.py:66: DeprecationWarning: Class Imputer is deprecated; Imputer was deprecated in version 0.20 and will be removed in 0.22. Import impute.SimpleImputer from sklearn instead.\n",
      "  warnings.warn(msg, category=DeprecationWarning)\n"
     ]
    }
   ],
   "source": [
    "from sklearn.pipeline import Pipeline\n",
    "from sklearn.preprocessing import Imputer,StandardScaler\n",
    "data_pipeline = Pipeline([\n",
    "        ('imputer', Imputer(missing_values=\"NaN\",strategy=\"median\")),\n",
    "        ('scaler',StandardScaler())\n",
    "    ])"
   ]
  },
  {
   "cell_type": "markdown",
   "metadata": {},
   "source": [
    "# Normalisasi data\n",
    "Tujuan dari normalisasi data adalah untuk menghilangkan dan mengurangi redudansi data dan tujuan yang kedua adalah memastikan dependensi data. Selain itu, hasil dari normalisasi data yang dilakukan akan dieksekusi ke dalam linear regression."
   ]
  },
  {
   "cell_type": "code",
   "execution_count": 18,
   "metadata": {},
   "outputs": [
    {
     "name": "stderr",
     "output_type": "stream",
     "text": [
      "C:\\Users\\Arby\\Anaconda3\\lib\\site-packages\\sklearn\\utils\\deprecation.py:66: DeprecationWarning: Class Imputer is deprecated; Imputer was deprecated in version 0.20 and will be removed in 0.22. Import impute.SimpleImputer from sklearn instead.\n",
      "  warnings.warn(msg, category=DeprecationWarning)\n"
     ]
    },
    {
     "data": {
      "text/plain": [
       "Pipeline(memory=None,\n",
       "         steps=[('imputer',\n",
       "                 Imputer(axis=0, copy=True, missing_values='NaN',\n",
       "                         strategy='median', verbose=0)),\n",
       "                ('normalizer', Normalizer(copy=True, norm='l2')),\n",
       "                ('lr',\n",
       "                 LinearRegression(copy_X=True, fit_intercept=True, n_jobs=None,\n",
       "                                  normalize=False))],\n",
       "         verbose=False)"
      ]
     },
     "execution_count": 18,
     "metadata": {},
     "output_type": "execute_result"
    }
   ],
   "source": [
    "# Dengan menggunakan metode normalization\n",
    "\n",
    "from sklearn.preprocessing import Imputer\n",
    "from sklearn.linear_model import LinearRegression\n",
    "from sklearn.preprocessing import StandardScaler,Normalizer\n",
    "\n",
    "from sklearn.pipeline import Pipeline\n",
    "\n",
    "Lr_pipeline_nor = Pipeline([\n",
    "        ('imputer', Imputer(missing_values=\"NaN\",strategy=\"median\")),\n",
    "        ('normalizer',Normalizer()),\n",
    "        ('lr', LinearRegression())\n",
    "        \n",
    "    ])\n",
    "\n",
    "Lr_pipeline_nor.fit(X_stock_train, y_stock_train)"
   ]
  },
  {
   "cell_type": "code",
   "execution_count": 19,
   "metadata": {},
   "outputs": [
    {
     "name": "stderr",
     "output_type": "stream",
     "text": [
      "C:\\Users\\Arby\\Anaconda3\\lib\\site-packages\\sklearn\\utils\\deprecation.py:66: DeprecationWarning: Class Imputer is deprecated; Imputer was deprecated in version 0.20 and will be removed in 0.22. Import impute.SimpleImputer from sklearn instead.\n",
      "  warnings.warn(msg, category=DeprecationWarning)\n"
     ]
    },
    {
     "data": {
      "text/plain": [
       "Pipeline(memory=None,\n",
       "         steps=[('imputer',\n",
       "                 Imputer(axis=0, copy=True, missing_values='NaN',\n",
       "                         strategy='median', verbose=0)),\n",
       "                ('scaler',\n",
       "                 StandardScaler(copy=True, with_mean=True, with_std=True)),\n",
       "                ('lr',\n",
       "                 LinearRegression(copy_X=True, fit_intercept=True, n_jobs=None,\n",
       "                                  normalize=False))],\n",
       "         verbose=False)"
      ]
     },
     "execution_count": 19,
     "metadata": {},
     "output_type": "execute_result"
    }
   ],
   "source": [
    "# Dengan metode standarization\n",
    "\n",
    "from sklearn.preprocessing import Imputer\n",
    "from sklearn.linear_model import LinearRegression\n",
    "from sklearn.preprocessing import StandardScaler\n",
    "from sklearn.pipeline import Pipeline\n",
    "\n",
    "Lr_pipeline_std = Pipeline([\n",
    "        ('imputer', Imputer(missing_values=\"NaN\",strategy=\"median\")),\n",
    "        ('scaler',StandardScaler()),\n",
    "        ('lr', LinearRegression())\n",
    "        \n",
    "    ])\n",
    "\n",
    "Lr_pipeline_std.fit(X_stock_train, y_stock_train)"
   ]
  },
  {
   "cell_type": "markdown",
   "metadata": {},
   "source": [
    "# Penentuan Model\n",
    "Untuk menentukan model yang digunakan, kami melakukan evaluasi dengan menggunakan MSE, RMSE, dan MAE."
   ]
  },
  {
   "cell_type": "code",
   "execution_count": 20,
   "metadata": {},
   "outputs": [
    {
     "data": {
      "text/plain": [
       "LinearRegression(copy_X=True, fit_intercept=True, n_jobs=None, normalize=True)"
      ]
     },
     "execution_count": 20,
     "metadata": {},
     "output_type": "execute_result"
    }
   ],
   "source": [
    "from sklearn.preprocessing import PolynomialFeatures\n",
    "poly = PolynomialFeatures(degree=11)\n",
    "\n",
    "#data ditransform\n",
    "X_train = poly.fit_transform(X_stock_train)\n",
    "X_test = poly.fit_transform(X_stock_test)\n",
    "\n",
    "from sklearn.linear_model import LinearRegression\n",
    "lr=LinearRegression(normalize=True)\n",
    "lr.fit(X_train,y_stock_train)"
   ]
  },
  {
   "cell_type": "markdown",
   "metadata": {},
   "source": [
    "Pada tahap ini, kami melakukan perhitungan MAE untuk perhitungan error tiap model. Ada 3 model yang kami uji, diantaranya:\n",
    "Polynomial Regression, Linear Regression (menggunakan normalisation dan menggunakan standardisation)."
   ]
  },
  {
   "cell_type": "code",
   "execution_count": 21,
   "metadata": {},
   "outputs": [
    {
     "name": "stdout",
     "output_type": "stream",
     "text": [
      "Polynomial Regression MAE 2.428\n",
      "Linear Regression MAE with Normalization 1.5033999999999996\n",
      "Linear Regression MAE with standardization 0.43028953090455035\n"
     ]
    }
   ],
   "source": [
    "# MAE untuk memahami metrik \n",
    "# perhitungan error untuk tiap model\n",
    "\n",
    "from sklearn.metrics import mean_absolute_error\n",
    "\n",
    "# Poly\n",
    "poly_predict = lr.predict(X_test)\n",
    "poly_mae = mean_absolute_error(y_stock_test, poly_predict)\n",
    "print('Polynomial Regression MAE', poly_mae)\n",
    "\n",
    "#Linear Regression with normalisation and standardisation\n",
    "lr_stock_predictions_nor = Lr_pipeline_nor.predict(X_stock_test)\n",
    "lr_mae_nor = mean_absolute_error(y_stock_test, lr_stock_predictions_nor)\n",
    "print('Linear Regression MAE with Normalization', lr_mae_nor)\n",
    "\n",
    "lr_stock_predictions_std = Lr_pipeline_std.predict(X_stock_test)\n",
    "lr_mae_std = mean_absolute_error(y_stock_test, lr_stock_predictions_std)\n",
    "print('Linear Regression MAE with standardization', lr_mae_std)"
   ]
  },
  {
   "cell_type": "markdown",
   "metadata": {},
   "source": [
    "Pada tahap ini, kami melakukan perhitungan RMSE untuk perhitungan akurasi tiap model. Ada 3 model yang kami uji, diantaranya:\n",
    "Polynomial Regression, Linear Regression (menggunakan normalisation dan menggunakan standardisation)."
   ]
  },
  {
   "cell_type": "code",
   "execution_count": 22,
   "metadata": {},
   "outputs": [
    {
     "name": "stdout",
     "output_type": "stream",
     "text": [
      "Polynomial Regression RMSE 2.449922447752173\n",
      "Linear Regression RMSE with Normalization 1.9391897792634936\n",
      "Linear Regression RMSE with standardization 0.5506071086110176\n"
     ]
    }
   ],
   "source": [
    "# RMSE untuk pengukuran actual accuracy dari model\n",
    "\n",
    "from sklearn.metrics import mean_squared_error\n",
    "\n",
    "poly_predict = lr.predict(X_test)\n",
    "poly_rmse = mean_squared_error(y_stock_test, poly_predict)\n",
    "rmse = np.sqrt(poly_rmse)\n",
    "print('Polynomial Regression RMSE', rmse)\n",
    "\n",
    "\n",
    "# #Linear Regression with normalisation\n",
    "lr_stock_predictions_nor = Lr_pipeline_nor.predict(X_stock_test)\n",
    "lr_mse_nor = mean_squared_error(y_stock_test, lr_stock_predictions_nor)\n",
    "lr_rmse_nor = np.sqrt(lr_mse_nor)\n",
    "print('Linear Regression RMSE with Normalization', lr_rmse_nor)\n",
    "\n",
    "# # Linear Regression with standardisation\n",
    "lr_stock_predictions_std = Lr_pipeline_std.predict(X_stock_test)\n",
    "lr_mse_std = mean_squared_error(y_stock_test, lr_stock_predictions_std)\n",
    "lr_rmse_std = np.sqrt(lr_mse_std)\n",
    "print('Linear Regression RMSE with standardization', lr_rmse_std)"
   ]
  },
  {
   "cell_type": "markdown",
   "metadata": {},
   "source": [
    "Pada tahap ini, kami melakukan perhitungan MSE untuk perhitungan akurasi tiap model. Ada 3 model yang kami uji, diantaranya:\n",
    "Polynomial Regression, Linear Regression (menggunakan normalisation dan menggunakan standardisation)."
   ]
  },
  {
   "cell_type": "code",
   "execution_count": 23,
   "metadata": {
    "scrolled": true
   },
   "outputs": [
    {
     "name": "stdout",
     "output_type": "stream",
     "text": [
      "Polynomial Regression MSE 2.428\n",
      "Linear Regression MSE with Normalization 1.5033999999999996\n",
      "Linear Regression MSE with standardization 0.43028953090455035\n"
     ]
    }
   ],
   "source": [
    "# MSE \n",
    "\n",
    "from sklearn.metrics import mean_squared_error\n",
    "\n",
    "# Poly\n",
    "poly_predict = lr.predict(X_test)\n",
    "poly_mse = mean_squared_error(y_stock_test, poly_predict)\n",
    "print('Polynomial Regression MSE', poly_mae)\n",
    "\n",
    "#Linear Regression with normalisation and standardisation\n",
    "lr_stock_predictions_nor = Lr_pipeline_nor.predict(X_stock_test)\n",
    "lr_mse_nor = mean_squared_error(y_stock_test, lr_stock_predictions_nor)\n",
    "print('Linear Regression MSE with Normalization', lr_mae_nor)\n",
    "\n",
    "lr_stock_predictions_std = Lr_pipeline_std.predict(X_stock_test)\n",
    "lr_mse_std = mean_squared_error(y_stock_test, lr_stock_predictions_std)\n",
    "print('Linear Regression MSE with standardization', lr_mae_std)\n"
   ]
  },
  {
   "cell_type": "markdown",
   "metadata": {},
   "source": [
    "Hasil RMSE, MAE, dan MSE dari tiap model"
   ]
  },
  {
   "cell_type": "code",
   "execution_count": 24,
   "metadata": {},
   "outputs": [
    {
     "data": {
      "text/html": [
       "<div>\n",
       "<style scoped>\n",
       "    .dataframe tbody tr th:only-of-type {\n",
       "        vertical-align: middle;\n",
       "    }\n",
       "\n",
       "    .dataframe tbody tr th {\n",
       "        vertical-align: top;\n",
       "    }\n",
       "\n",
       "    .dataframe thead th {\n",
       "        text-align: right;\n",
       "    }\n",
       "</style>\n",
       "<table border=\"1\" class=\"dataframe\">\n",
       "  <thead>\n",
       "    <tr style=\"text-align: right;\">\n",
       "      <th></th>\n",
       "      <th>ID</th>\n",
       "      <th>Model</th>\n",
       "      <th>RMSE</th>\n",
       "      <th>MAE</th>\n",
       "      <th>MSE</th>\n",
       "    </tr>\n",
       "  </thead>\n",
       "  <tbody>\n",
       "    <tr>\n",
       "      <td>0</td>\n",
       "      <td>1</td>\n",
       "      <td>Linear Regression with standardisation</td>\n",
       "      <td>0.551</td>\n",
       "      <td>0.430</td>\n",
       "      <td>0.303</td>\n",
       "    </tr>\n",
       "    <tr>\n",
       "      <td>1</td>\n",
       "      <td>2</td>\n",
       "      <td>Linear Regression with normalisation</td>\n",
       "      <td>1.939</td>\n",
       "      <td>1.503</td>\n",
       "      <td>3.760</td>\n",
       "    </tr>\n",
       "    <tr>\n",
       "      <td>2</td>\n",
       "      <td>3</td>\n",
       "      <td>Polynomial Regression</td>\n",
       "      <td>6.002</td>\n",
       "      <td>2.428</td>\n",
       "      <td>6.002</td>\n",
       "    </tr>\n",
       "  </tbody>\n",
       "</table>\n",
       "</div>"
      ],
      "text/plain": [
       "  ID                                   Model   RMSE    MAE    MSE\n",
       "0  1  Linear Regression with standardisation  0.551  0.430  0.303\n",
       "1  2    Linear Regression with normalisation  1.939  1.503  3.760\n",
       "2  3                   Polynomial Regression  6.002  2.428  6.002"
      ]
     },
     "execution_count": 24,
     "metadata": {},
     "output_type": "execute_result"
    }
   ],
   "source": [
    "# Hasil RMSE dan MAE ditampung dalam dataframe\n",
    "\n",
    "lr_std = ['1',\"Linear Regression with standardisation\",np.round(lr_rmse_std,3),np.round(lr_mae_std,3), np.round(lr_mse_std,3)]\n",
    "lr_nor = ['2',\"Linear Regression with normalisation\",np.round(lr_rmse_nor,3),np.round(lr_mae_nor,3), np.round(lr_mse_nor,3)]\n",
    "poly_error = ['3', \"Polynomial Regression\", np.round(poly_rmse, 3), np.round(poly_mae, 3), np.round(poly_mse,3)]\n",
    "\n",
    "linear_model_result= pd.DataFrame([lr_std,lr_nor, poly_error],columns=[ \"ID\", \"Model\", \"RMSE\",\"MAE\", \"MSE\"])\n",
    "linear_model_result"
   ]
  },
  {
   "cell_type": "markdown",
   "metadata": {},
   "source": [
    "Dari hasil perhitungan error RMSE, MAE, dan MSE diatas, dapat disimpulkan bahwa model Linear Regression dengan Standarization lebih bagus daripada menggunakan 2 metode lainnya dikarenakan metode Standarization memiliki akurasi lebih besar."
   ]
  },
  {
   "cell_type": "markdown",
   "metadata": {},
   "source": [
    "# Melakukan Prediksi closing price saham (Semua Stock)\n",
    "Dari langkah yang dilakukan pada contoh 1 stock CSCO, dilakukan pengembangan untuk semua stock. Klasifikasi label dilakukan dengan menggunakan model linear regression dengan metode standarization (karena menghasilkan nilai yang baik). Klasifikasi label dihitung berdasarkan rata-rata dari stock tersebut. Pada model linear regression dilakukan juga perhitungan koefisien yang akan disimpan bersama dengan label dalam satu csv. Csv ini akan digunakan sebagai dataset berlabel untuk prediksi klasifikasi KNN dan digunakan untuk KMeans sebagai prediksi clustering agar data lebih akurat. \n",
    "\n",
    "Data csv ini juga yang akan digunakan untuk memprediksi saham kedepannya dengan menggunakan linear model"
   ]
  },
  {
   "cell_type": "code",
   "execution_count": 25,
   "metadata": {},
   "outputs": [],
   "source": [
    "from sklearn.preprocessing import Imputer\n",
    "    \n",
    "def allModelsResultForAllStocks():\n",
    "    best_result_per_stock = pd.DataFrame(columns=['Stock','Model','RMSE'])\n",
    "    stock_list = np.unique(data[\"stock\"])\n",
    "    best_result_per_stock = list()\n",
    "    for stock_name in stock_list:\n",
    "        result = pd.DataFrame(columns=['Stock','Model','RMSE'])\n",
    "        data_per_stock = data[data['stock'] == stock_name]\n",
    "        \n",
    "        X_data_per_stock = data_per_stock.drop(['date','stock','close'], axis=1)\n",
    "        y_data_per_stock = data_per_stock['close']\n",
    "        \n",
    "        imputer = Imputer(missing_values='NaN', strategy='median')\n",
    "        \n",
    "        imputer.fit_transform(X_data_per_stock)\n",
    "       \n",
    "        X_stock_train, X_stock_test, y_stock_train, y_stock_test = train_test_split(X_data_per_stock, y_data_per_stock, test_size=0.2, \n",
    "                                                                                random_state=12)\n",
    "\n",
    "        Lr_pipeline_std.fit(X_stock_train, y_stock_train)\n",
    "        Lr_pipeline_nor.fit(X_stock_train, y_stock_train)\n",
    "        lr.fit(X_stock_train, y_stock_train)\n",
    "        \n",
    "      \n",
    "        # Predict & Calculate RMSE for all the models \n",
    "\n",
    "        #Linear Regression with normalisation and standardisation\n",
    "        lr_stock_predictions_nor = Lr_pipeline_nor.predict(X_stock_test)\n",
    "        lr_mse_nor = mean_squared_error(y_stock_test, lr_stock_predictions_nor)\n",
    "        lr_rmse_nor = np.sqrt(lr_mse_nor)\n",
    "        rmse_row =   [stock_name,'Lr RMSE with Normalization', lr_rmse_nor]\n",
    "\n",
    "        result.loc[-1] = rmse_row\n",
    "        result.index = result.index + 1\n",
    "        \n",
    "        best_result_per_stock.append(np.array(result.iloc[0, :]))\n",
    "\n",
    "\n",
    "        lr_stock_predictions_std = Lr_pipeline_std.predict(X_stock_test)\n",
    "        lr_mse_std = mean_squared_error(y_stock_test, lr_stock_predictions_std)\n",
    "        lr_rmse_std = np.sqrt(lr_mse_std)\n",
    "        rmse_row =   [stock_name,'Lr RMSE with Standardization', lr_rmse_std]\n",
    "    \n",
    "\n",
    "        result.loc[-1] = rmse_row\n",
    "        result.index = result.index + 1\n",
    "        result = result.sort_values(by = ['RMSE'])\n",
    "        \n",
    "        best_result_per_stock.append(np.array(result.iloc[0, :]))\n",
    "    \n",
    "    best_result_per_stock_df = pd.DataFrame(data=best_result_per_stock, columns=['Stock','Model','RMSE'])\n",
    "    return best_result_per_stock_df"
   ]
  },
  {
   "cell_type": "code",
   "execution_count": 26,
   "metadata": {},
   "outputs": [
    {
     "name": "stderr",
     "output_type": "stream",
     "text": [
      "C:\\Users\\Arby\\Anaconda3\\lib\\site-packages\\sklearn\\utils\\deprecation.py:66: DeprecationWarning: Class Imputer is deprecated; Imputer was deprecated in version 0.20 and will be removed in 0.22. Import impute.SimpleImputer from sklearn instead.\n",
      "  warnings.warn(msg, category=DeprecationWarning)\n",
      "C:\\Users\\Arby\\Anaconda3\\lib\\site-packages\\sklearn\\utils\\deprecation.py:66: DeprecationWarning: Class Imputer is deprecated; Imputer was deprecated in version 0.20 and will be removed in 0.22. Import impute.SimpleImputer from sklearn instead.\n",
      "  warnings.warn(msg, category=DeprecationWarning)\n",
      "C:\\Users\\Arby\\Anaconda3\\lib\\site-packages\\sklearn\\utils\\deprecation.py:66: DeprecationWarning: Class Imputer is deprecated; Imputer was deprecated in version 0.20 and will be removed in 0.22. Import impute.SimpleImputer from sklearn instead.\n",
      "  warnings.warn(msg, category=DeprecationWarning)\n",
      "C:\\Users\\Arby\\Anaconda3\\lib\\site-packages\\sklearn\\utils\\deprecation.py:66: DeprecationWarning: Class Imputer is deprecated; Imputer was deprecated in version 0.20 and will be removed in 0.22. Import impute.SimpleImputer from sklearn instead.\n",
      "  warnings.warn(msg, category=DeprecationWarning)\n",
      "C:\\Users\\Arby\\Anaconda3\\lib\\site-packages\\sklearn\\utils\\deprecation.py:66: DeprecationWarning: Class Imputer is deprecated; Imputer was deprecated in version 0.20 and will be removed in 0.22. Import impute.SimpleImputer from sklearn instead.\n",
      "  warnings.warn(msg, category=DeprecationWarning)\n",
      "C:\\Users\\Arby\\Anaconda3\\lib\\site-packages\\sklearn\\utils\\deprecation.py:66: DeprecationWarning: Class Imputer is deprecated; Imputer was deprecated in version 0.20 and will be removed in 0.22. Import impute.SimpleImputer from sklearn instead.\n",
      "  warnings.warn(msg, category=DeprecationWarning)\n",
      "C:\\Users\\Arby\\Anaconda3\\lib\\site-packages\\sklearn\\utils\\deprecation.py:66: DeprecationWarning: Class Imputer is deprecated; Imputer was deprecated in version 0.20 and will be removed in 0.22. Import impute.SimpleImputer from sklearn instead.\n",
      "  warnings.warn(msg, category=DeprecationWarning)\n",
      "C:\\Users\\Arby\\Anaconda3\\lib\\site-packages\\sklearn\\utils\\deprecation.py:66: DeprecationWarning: Class Imputer is deprecated; Imputer was deprecated in version 0.20 and will be removed in 0.22. Import impute.SimpleImputer from sklearn instead.\n",
      "  warnings.warn(msg, category=DeprecationWarning)\n",
      "C:\\Users\\Arby\\Anaconda3\\lib\\site-packages\\sklearn\\utils\\deprecation.py:66: DeprecationWarning: Class Imputer is deprecated; Imputer was deprecated in version 0.20 and will be removed in 0.22. Import impute.SimpleImputer from sklearn instead.\n",
      "  warnings.warn(msg, category=DeprecationWarning)\n",
      "C:\\Users\\Arby\\Anaconda3\\lib\\site-packages\\sklearn\\utils\\deprecation.py:66: DeprecationWarning: Class Imputer is deprecated; Imputer was deprecated in version 0.20 and will be removed in 0.22. Import impute.SimpleImputer from sklearn instead.\n",
      "  warnings.warn(msg, category=DeprecationWarning)\n",
      "C:\\Users\\Arby\\Anaconda3\\lib\\site-packages\\sklearn\\utils\\deprecation.py:66: DeprecationWarning: Class Imputer is deprecated; Imputer was deprecated in version 0.20 and will be removed in 0.22. Import impute.SimpleImputer from sklearn instead.\n",
      "  warnings.warn(msg, category=DeprecationWarning)\n",
      "C:\\Users\\Arby\\Anaconda3\\lib\\site-packages\\sklearn\\utils\\deprecation.py:66: DeprecationWarning: Class Imputer is deprecated; Imputer was deprecated in version 0.20 and will be removed in 0.22. Import impute.SimpleImputer from sklearn instead.\n",
      "  warnings.warn(msg, category=DeprecationWarning)\n",
      "C:\\Users\\Arby\\Anaconda3\\lib\\site-packages\\sklearn\\utils\\deprecation.py:66: DeprecationWarning: Class Imputer is deprecated; Imputer was deprecated in version 0.20 and will be removed in 0.22. Import impute.SimpleImputer from sklearn instead.\n",
      "  warnings.warn(msg, category=DeprecationWarning)\n",
      "C:\\Users\\Arby\\Anaconda3\\lib\\site-packages\\sklearn\\utils\\deprecation.py:66: DeprecationWarning: Class Imputer is deprecated; Imputer was deprecated in version 0.20 and will be removed in 0.22. Import impute.SimpleImputer from sklearn instead.\n",
      "  warnings.warn(msg, category=DeprecationWarning)\n",
      "C:\\Users\\Arby\\Anaconda3\\lib\\site-packages\\sklearn\\utils\\deprecation.py:66: DeprecationWarning: Class Imputer is deprecated; Imputer was deprecated in version 0.20 and will be removed in 0.22. Import impute.SimpleImputer from sklearn instead.\n",
      "  warnings.warn(msg, category=DeprecationWarning)\n",
      "C:\\Users\\Arby\\Anaconda3\\lib\\site-packages\\sklearn\\utils\\deprecation.py:66: DeprecationWarning: Class Imputer is deprecated; Imputer was deprecated in version 0.20 and will be removed in 0.22. Import impute.SimpleImputer from sklearn instead.\n",
      "  warnings.warn(msg, category=DeprecationWarning)\n",
      "C:\\Users\\Arby\\Anaconda3\\lib\\site-packages\\sklearn\\utils\\deprecation.py:66: DeprecationWarning: Class Imputer is deprecated; Imputer was deprecated in version 0.20 and will be removed in 0.22. Import impute.SimpleImputer from sklearn instead.\n",
      "  warnings.warn(msg, category=DeprecationWarning)\n",
      "C:\\Users\\Arby\\Anaconda3\\lib\\site-packages\\sklearn\\utils\\deprecation.py:66: DeprecationWarning: Class Imputer is deprecated; Imputer was deprecated in version 0.20 and will be removed in 0.22. Import impute.SimpleImputer from sklearn instead.\n",
      "  warnings.warn(msg, category=DeprecationWarning)\n",
      "C:\\Users\\Arby\\Anaconda3\\lib\\site-packages\\sklearn\\utils\\deprecation.py:66: DeprecationWarning: Class Imputer is deprecated; Imputer was deprecated in version 0.20 and will be removed in 0.22. Import impute.SimpleImputer from sklearn instead.\n",
      "  warnings.warn(msg, category=DeprecationWarning)\n",
      "C:\\Users\\Arby\\Anaconda3\\lib\\site-packages\\sklearn\\utils\\deprecation.py:66: DeprecationWarning: Class Imputer is deprecated; Imputer was deprecated in version 0.20 and will be removed in 0.22. Import impute.SimpleImputer from sklearn instead.\n",
      "  warnings.warn(msg, category=DeprecationWarning)\n",
      "C:\\Users\\Arby\\Anaconda3\\lib\\site-packages\\sklearn\\utils\\deprecation.py:66: DeprecationWarning: Class Imputer is deprecated; Imputer was deprecated in version 0.20 and will be removed in 0.22. Import impute.SimpleImputer from sklearn instead.\n",
      "  warnings.warn(msg, category=DeprecationWarning)\n",
      "C:\\Users\\Arby\\Anaconda3\\lib\\site-packages\\sklearn\\utils\\deprecation.py:66: DeprecationWarning: Class Imputer is deprecated; Imputer was deprecated in version 0.20 and will be removed in 0.22. Import impute.SimpleImputer from sklearn instead.\n",
      "  warnings.warn(msg, category=DeprecationWarning)\n",
      "C:\\Users\\Arby\\Anaconda3\\lib\\site-packages\\sklearn\\utils\\deprecation.py:66: DeprecationWarning: Class Imputer is deprecated; Imputer was deprecated in version 0.20 and will be removed in 0.22. Import impute.SimpleImputer from sklearn instead.\n",
      "  warnings.warn(msg, category=DeprecationWarning)\n",
      "C:\\Users\\Arby\\Anaconda3\\lib\\site-packages\\sklearn\\utils\\deprecation.py:66: DeprecationWarning: Class Imputer is deprecated; Imputer was deprecated in version 0.20 and will be removed in 0.22. Import impute.SimpleImputer from sklearn instead.\n",
      "  warnings.warn(msg, category=DeprecationWarning)\n",
      "C:\\Users\\Arby\\Anaconda3\\lib\\site-packages\\sklearn\\utils\\deprecation.py:66: DeprecationWarning: Class Imputer is deprecated; Imputer was deprecated in version 0.20 and will be removed in 0.22. Import impute.SimpleImputer from sklearn instead.\n",
      "  warnings.warn(msg, category=DeprecationWarning)\n",
      "C:\\Users\\Arby\\Anaconda3\\lib\\site-packages\\sklearn\\utils\\deprecation.py:66: DeprecationWarning: Class Imputer is deprecated; Imputer was deprecated in version 0.20 and will be removed in 0.22. Import impute.SimpleImputer from sklearn instead.\n",
      "  warnings.warn(msg, category=DeprecationWarning)\n",
      "C:\\Users\\Arby\\Anaconda3\\lib\\site-packages\\sklearn\\utils\\deprecation.py:66: DeprecationWarning: Class Imputer is deprecated; Imputer was deprecated in version 0.20 and will be removed in 0.22. Import impute.SimpleImputer from sklearn instead.\n",
      "  warnings.warn(msg, category=DeprecationWarning)\n",
      "C:\\Users\\Arby\\Anaconda3\\lib\\site-packages\\sklearn\\utils\\deprecation.py:66: DeprecationWarning: Class Imputer is deprecated; Imputer was deprecated in version 0.20 and will be removed in 0.22. Import impute.SimpleImputer from sklearn instead.\n",
      "  warnings.warn(msg, category=DeprecationWarning)\n",
      "C:\\Users\\Arby\\Anaconda3\\lib\\site-packages\\sklearn\\utils\\deprecation.py:66: DeprecationWarning: Class Imputer is deprecated; Imputer was deprecated in version 0.20 and will be removed in 0.22. Import impute.SimpleImputer from sklearn instead.\n",
      "  warnings.warn(msg, category=DeprecationWarning)\n",
      "C:\\Users\\Arby\\Anaconda3\\lib\\site-packages\\sklearn\\utils\\deprecation.py:66: DeprecationWarning: Class Imputer is deprecated; Imputer was deprecated in version 0.20 and will be removed in 0.22. Import impute.SimpleImputer from sklearn instead.\n",
      "  warnings.warn(msg, category=DeprecationWarning)\n"
     ]
    },
    {
     "data": {
      "text/html": [
       "<div>\n",
       "<style scoped>\n",
       "    .dataframe tbody tr th:only-of-type {\n",
       "        vertical-align: middle;\n",
       "    }\n",
       "\n",
       "    .dataframe tbody tr th {\n",
       "        vertical-align: top;\n",
       "    }\n",
       "\n",
       "    .dataframe thead th {\n",
       "        text-align: right;\n",
       "    }\n",
       "</style>\n",
       "<table border=\"1\" class=\"dataframe\">\n",
       "  <thead>\n",
       "    <tr style=\"text-align: right;\">\n",
       "      <th></th>\n",
       "      <th>Stock</th>\n",
       "      <th>Model</th>\n",
       "      <th>RMSE</th>\n",
       "    </tr>\n",
       "  </thead>\n",
       "  <tbody>\n",
       "    <tr>\n",
       "      <td>0</td>\n",
       "      <td>AA</td>\n",
       "      <td>Lr RMSE with Normalization</td>\n",
       "      <td>0.588384</td>\n",
       "    </tr>\n",
       "    <tr>\n",
       "      <td>1</td>\n",
       "      <td>AA</td>\n",
       "      <td>Lr RMSE with Standardization</td>\n",
       "      <td>0.023721</td>\n",
       "    </tr>\n",
       "    <tr>\n",
       "      <td>2</td>\n",
       "      <td>AXP</td>\n",
       "      <td>Lr RMSE with Normalization</td>\n",
       "      <td>2.352324</td>\n",
       "    </tr>\n",
       "    <tr>\n",
       "      <td>3</td>\n",
       "      <td>AXP</td>\n",
       "      <td>Lr RMSE with Standardization</td>\n",
       "      <td>0.107388</td>\n",
       "    </tr>\n",
       "    <tr>\n",
       "      <td>4</td>\n",
       "      <td>BA</td>\n",
       "      <td>Lr RMSE with Normalization</td>\n",
       "      <td>2.737084</td>\n",
       "    </tr>\n",
       "    <tr>\n",
       "      <td>5</td>\n",
       "      <td>BA</td>\n",
       "      <td>Lr RMSE with Standardization</td>\n",
       "      <td>0.064116</td>\n",
       "    </tr>\n",
       "    <tr>\n",
       "      <td>6</td>\n",
       "      <td>BAC</td>\n",
       "      <td>Lr RMSE with Normalization</td>\n",
       "      <td>0.415157</td>\n",
       "    </tr>\n",
       "    <tr>\n",
       "      <td>7</td>\n",
       "      <td>BAC</td>\n",
       "      <td>Lr RMSE with Standardization</td>\n",
       "      <td>0.030208</td>\n",
       "    </tr>\n",
       "    <tr>\n",
       "      <td>8</td>\n",
       "      <td>CAT</td>\n",
       "      <td>Lr RMSE with Normalization</td>\n",
       "      <td>9.202716</td>\n",
       "    </tr>\n",
       "    <tr>\n",
       "      <td>9</td>\n",
       "      <td>CAT</td>\n",
       "      <td>Lr RMSE with Standardization</td>\n",
       "      <td>0.297476</td>\n",
       "    </tr>\n",
       "    <tr>\n",
       "      <td>10</td>\n",
       "      <td>CSCO</td>\n",
       "      <td>Lr RMSE with Normalization</td>\n",
       "      <td>1.936723</td>\n",
       "    </tr>\n",
       "    <tr>\n",
       "      <td>11</td>\n",
       "      <td>CSCO</td>\n",
       "      <td>Lr RMSE with Standardization</td>\n",
       "      <td>0.066665</td>\n",
       "    </tr>\n",
       "    <tr>\n",
       "      <td>12</td>\n",
       "      <td>CVX</td>\n",
       "      <td>Lr RMSE with Normalization</td>\n",
       "      <td>17.239560</td>\n",
       "    </tr>\n",
       "    <tr>\n",
       "      <td>13</td>\n",
       "      <td>CVX</td>\n",
       "      <td>Lr RMSE with Standardization</td>\n",
       "      <td>0.125344</td>\n",
       "    </tr>\n",
       "    <tr>\n",
       "      <td>14</td>\n",
       "      <td>DD</td>\n",
       "      <td>Lr RMSE with Normalization</td>\n",
       "      <td>6.092879</td>\n",
       "    </tr>\n",
       "    <tr>\n",
       "      <td>15</td>\n",
       "      <td>DD</td>\n",
       "      <td>Lr RMSE with Standardization</td>\n",
       "      <td>0.052801</td>\n",
       "    </tr>\n",
       "    <tr>\n",
       "      <td>16</td>\n",
       "      <td>DIS</td>\n",
       "      <td>Lr RMSE with Normalization</td>\n",
       "      <td>3.170418</td>\n",
       "    </tr>\n",
       "    <tr>\n",
       "      <td>17</td>\n",
       "      <td>DIS</td>\n",
       "      <td>Lr RMSE with Standardization</td>\n",
       "      <td>0.042429</td>\n",
       "    </tr>\n",
       "    <tr>\n",
       "      <td>18</td>\n",
       "      <td>GE</td>\n",
       "      <td>Lr RMSE with Normalization</td>\n",
       "      <td>0.553138</td>\n",
       "    </tr>\n",
       "    <tr>\n",
       "      <td>19</td>\n",
       "      <td>GE</td>\n",
       "      <td>Lr RMSE with Standardization</td>\n",
       "      <td>0.015755</td>\n",
       "    </tr>\n",
       "    <tr>\n",
       "      <td>20</td>\n",
       "      <td>HD</td>\n",
       "      <td>Lr RMSE with Normalization</td>\n",
       "      <td>4.474366</td>\n",
       "    </tr>\n",
       "    <tr>\n",
       "      <td>21</td>\n",
       "      <td>HD</td>\n",
       "      <td>Lr RMSE with Standardization</td>\n",
       "      <td>0.107505</td>\n",
       "    </tr>\n",
       "    <tr>\n",
       "      <td>22</td>\n",
       "      <td>HPQ</td>\n",
       "      <td>Lr RMSE with Normalization</td>\n",
       "      <td>3.079482</td>\n",
       "    </tr>\n",
       "    <tr>\n",
       "      <td>23</td>\n",
       "      <td>HPQ</td>\n",
       "      <td>Lr RMSE with Standardization</td>\n",
       "      <td>0.250992</td>\n",
       "    </tr>\n",
       "    <tr>\n",
       "      <td>24</td>\n",
       "      <td>IBM</td>\n",
       "      <td>Lr RMSE with Normalization</td>\n",
       "      <td>6.315486</td>\n",
       "    </tr>\n",
       "    <tr>\n",
       "      <td>25</td>\n",
       "      <td>IBM</td>\n",
       "      <td>Lr RMSE with Standardization</td>\n",
       "      <td>0.111924</td>\n",
       "    </tr>\n",
       "    <tr>\n",
       "      <td>26</td>\n",
       "      <td>INTC</td>\n",
       "      <td>Lr RMSE with Normalization</td>\n",
       "      <td>1.564671</td>\n",
       "    </tr>\n",
       "    <tr>\n",
       "      <td>27</td>\n",
       "      <td>INTC</td>\n",
       "      <td>Lr RMSE with Standardization</td>\n",
       "      <td>0.092547</td>\n",
       "    </tr>\n",
       "    <tr>\n",
       "      <td>28</td>\n",
       "      <td>JNJ</td>\n",
       "      <td>Lr RMSE with Normalization</td>\n",
       "      <td>3.303941</td>\n",
       "    </tr>\n",
       "    <tr>\n",
       "      <td>29</td>\n",
       "      <td>JNJ</td>\n",
       "      <td>Lr RMSE with Standardization</td>\n",
       "      <td>0.095035</td>\n",
       "    </tr>\n",
       "    <tr>\n",
       "      <td>30</td>\n",
       "      <td>JPM</td>\n",
       "      <td>Lr RMSE with Normalization</td>\n",
       "      <td>0.716014</td>\n",
       "    </tr>\n",
       "    <tr>\n",
       "      <td>31</td>\n",
       "      <td>JPM</td>\n",
       "      <td>Lr RMSE with Standardization</td>\n",
       "      <td>0.051985</td>\n",
       "    </tr>\n",
       "    <tr>\n",
       "      <td>32</td>\n",
       "      <td>KO</td>\n",
       "      <td>Lr RMSE with Normalization</td>\n",
       "      <td>1.464270</td>\n",
       "    </tr>\n",
       "    <tr>\n",
       "      <td>33</td>\n",
       "      <td>KO</td>\n",
       "      <td>Lr RMSE with Standardization</td>\n",
       "      <td>0.036492</td>\n",
       "    </tr>\n",
       "    <tr>\n",
       "      <td>34</td>\n",
       "      <td>KRFT</td>\n",
       "      <td>Lr RMSE with Normalization</td>\n",
       "      <td>1.575894</td>\n",
       "    </tr>\n",
       "    <tr>\n",
       "      <td>35</td>\n",
       "      <td>KRFT</td>\n",
       "      <td>Lr RMSE with Standardization</td>\n",
       "      <td>0.037361</td>\n",
       "    </tr>\n",
       "    <tr>\n",
       "      <td>36</td>\n",
       "      <td>MCD</td>\n",
       "      <td>Lr RMSE with Normalization</td>\n",
       "      <td>2.063288</td>\n",
       "    </tr>\n",
       "    <tr>\n",
       "      <td>37</td>\n",
       "      <td>MCD</td>\n",
       "      <td>Lr RMSE with Standardization</td>\n",
       "      <td>0.058173</td>\n",
       "    </tr>\n",
       "    <tr>\n",
       "      <td>38</td>\n",
       "      <td>MMM</td>\n",
       "      <td>Lr RMSE with Normalization</td>\n",
       "      <td>2.563126</td>\n",
       "    </tr>\n",
       "    <tr>\n",
       "      <td>39</td>\n",
       "      <td>MMM</td>\n",
       "      <td>Lr RMSE with Standardization</td>\n",
       "      <td>0.080351</td>\n",
       "    </tr>\n",
       "    <tr>\n",
       "      <td>40</td>\n",
       "      <td>MRK</td>\n",
       "      <td>Lr RMSE with Normalization</td>\n",
       "      <td>1.627393</td>\n",
       "    </tr>\n",
       "    <tr>\n",
       "      <td>41</td>\n",
       "      <td>MRK</td>\n",
       "      <td>Lr RMSE with Standardization</td>\n",
       "      <td>0.143633</td>\n",
       "    </tr>\n",
       "    <tr>\n",
       "      <td>42</td>\n",
       "      <td>MSFT</td>\n",
       "      <td>Lr RMSE with Normalization</td>\n",
       "      <td>0.473768</td>\n",
       "    </tr>\n",
       "    <tr>\n",
       "      <td>43</td>\n",
       "      <td>MSFT</td>\n",
       "      <td>Lr RMSE with Standardization</td>\n",
       "      <td>0.010143</td>\n",
       "    </tr>\n",
       "    <tr>\n",
       "      <td>44</td>\n",
       "      <td>PFE</td>\n",
       "      <td>Lr RMSE with Normalization</td>\n",
       "      <td>0.534089</td>\n",
       "    </tr>\n",
       "    <tr>\n",
       "      <td>45</td>\n",
       "      <td>PFE</td>\n",
       "      <td>Lr RMSE with Standardization</td>\n",
       "      <td>0.016694</td>\n",
       "    </tr>\n",
       "    <tr>\n",
       "      <td>46</td>\n",
       "      <td>PG</td>\n",
       "      <td>Lr RMSE with Normalization</td>\n",
       "      <td>1.965078</td>\n",
       "    </tr>\n",
       "    <tr>\n",
       "      <td>47</td>\n",
       "      <td>PG</td>\n",
       "      <td>Lr RMSE with Standardization</td>\n",
       "      <td>0.046406</td>\n",
       "    </tr>\n",
       "    <tr>\n",
       "      <td>48</td>\n",
       "      <td>T</td>\n",
       "      <td>Lr RMSE with Normalization</td>\n",
       "      <td>0.534275</td>\n",
       "    </tr>\n",
       "    <tr>\n",
       "      <td>49</td>\n",
       "      <td>T</td>\n",
       "      <td>Lr RMSE with Standardization</td>\n",
       "      <td>0.016659</td>\n",
       "    </tr>\n",
       "    <tr>\n",
       "      <td>50</td>\n",
       "      <td>TRV</td>\n",
       "      <td>Lr RMSE with Normalization</td>\n",
       "      <td>3.004885</td>\n",
       "    </tr>\n",
       "    <tr>\n",
       "      <td>51</td>\n",
       "      <td>TRV</td>\n",
       "      <td>Lr RMSE with Standardization</td>\n",
       "      <td>0.079262</td>\n",
       "    </tr>\n",
       "    <tr>\n",
       "      <td>52</td>\n",
       "      <td>UTX</td>\n",
       "      <td>Lr RMSE with Normalization</td>\n",
       "      <td>5.428245</td>\n",
       "    </tr>\n",
       "    <tr>\n",
       "      <td>53</td>\n",
       "      <td>UTX</td>\n",
       "      <td>Lr RMSE with Standardization</td>\n",
       "      <td>0.061904</td>\n",
       "    </tr>\n",
       "    <tr>\n",
       "      <td>54</td>\n",
       "      <td>VZ</td>\n",
       "      <td>Lr RMSE with Normalization</td>\n",
       "      <td>2.836252</td>\n",
       "    </tr>\n",
       "    <tr>\n",
       "      <td>55</td>\n",
       "      <td>VZ</td>\n",
       "      <td>Lr RMSE with Standardization</td>\n",
       "      <td>0.011593</td>\n",
       "    </tr>\n",
       "    <tr>\n",
       "      <td>56</td>\n",
       "      <td>WMT</td>\n",
       "      <td>Lr RMSE with Normalization</td>\n",
       "      <td>1.605468</td>\n",
       "    </tr>\n",
       "    <tr>\n",
       "      <td>57</td>\n",
       "      <td>WMT</td>\n",
       "      <td>Lr RMSE with Standardization</td>\n",
       "      <td>0.013326</td>\n",
       "    </tr>\n",
       "    <tr>\n",
       "      <td>58</td>\n",
       "      <td>XOM</td>\n",
       "      <td>Lr RMSE with Normalization</td>\n",
       "      <td>6.440570</td>\n",
       "    </tr>\n",
       "    <tr>\n",
       "      <td>59</td>\n",
       "      <td>XOM</td>\n",
       "      <td>Lr RMSE with Standardization</td>\n",
       "      <td>0.101374</td>\n",
       "    </tr>\n",
       "  </tbody>\n",
       "</table>\n",
       "</div>"
      ],
      "text/plain": [
       "   Stock                         Model       RMSE\n",
       "0     AA    Lr RMSE with Normalization   0.588384\n",
       "1     AA  Lr RMSE with Standardization   0.023721\n",
       "2    AXP    Lr RMSE with Normalization   2.352324\n",
       "3    AXP  Lr RMSE with Standardization   0.107388\n",
       "4     BA    Lr RMSE with Normalization   2.737084\n",
       "5     BA  Lr RMSE with Standardization   0.064116\n",
       "6    BAC    Lr RMSE with Normalization   0.415157\n",
       "7    BAC  Lr RMSE with Standardization   0.030208\n",
       "8    CAT    Lr RMSE with Normalization   9.202716\n",
       "9    CAT  Lr RMSE with Standardization   0.297476\n",
       "10  CSCO    Lr RMSE with Normalization   1.936723\n",
       "11  CSCO  Lr RMSE with Standardization   0.066665\n",
       "12   CVX    Lr RMSE with Normalization  17.239560\n",
       "13   CVX  Lr RMSE with Standardization   0.125344\n",
       "14    DD    Lr RMSE with Normalization   6.092879\n",
       "15    DD  Lr RMSE with Standardization   0.052801\n",
       "16   DIS    Lr RMSE with Normalization   3.170418\n",
       "17   DIS  Lr RMSE with Standardization   0.042429\n",
       "18    GE    Lr RMSE with Normalization   0.553138\n",
       "19    GE  Lr RMSE with Standardization   0.015755\n",
       "20    HD    Lr RMSE with Normalization   4.474366\n",
       "21    HD  Lr RMSE with Standardization   0.107505\n",
       "22   HPQ    Lr RMSE with Normalization   3.079482\n",
       "23   HPQ  Lr RMSE with Standardization   0.250992\n",
       "24   IBM    Lr RMSE with Normalization   6.315486\n",
       "25   IBM  Lr RMSE with Standardization   0.111924\n",
       "26  INTC    Lr RMSE with Normalization   1.564671\n",
       "27  INTC  Lr RMSE with Standardization   0.092547\n",
       "28   JNJ    Lr RMSE with Normalization   3.303941\n",
       "29   JNJ  Lr RMSE with Standardization   0.095035\n",
       "30   JPM    Lr RMSE with Normalization   0.716014\n",
       "31   JPM  Lr RMSE with Standardization   0.051985\n",
       "32    KO    Lr RMSE with Normalization   1.464270\n",
       "33    KO  Lr RMSE with Standardization   0.036492\n",
       "34  KRFT    Lr RMSE with Normalization   1.575894\n",
       "35  KRFT  Lr RMSE with Standardization   0.037361\n",
       "36   MCD    Lr RMSE with Normalization   2.063288\n",
       "37   MCD  Lr RMSE with Standardization   0.058173\n",
       "38   MMM    Lr RMSE with Normalization   2.563126\n",
       "39   MMM  Lr RMSE with Standardization   0.080351\n",
       "40   MRK    Lr RMSE with Normalization   1.627393\n",
       "41   MRK  Lr RMSE with Standardization   0.143633\n",
       "42  MSFT    Lr RMSE with Normalization   0.473768\n",
       "43  MSFT  Lr RMSE with Standardization   0.010143\n",
       "44   PFE    Lr RMSE with Normalization   0.534089\n",
       "45   PFE  Lr RMSE with Standardization   0.016694\n",
       "46    PG    Lr RMSE with Normalization   1.965078\n",
       "47    PG  Lr RMSE with Standardization   0.046406\n",
       "48     T    Lr RMSE with Normalization   0.534275\n",
       "49     T  Lr RMSE with Standardization   0.016659\n",
       "50   TRV    Lr RMSE with Normalization   3.004885\n",
       "51   TRV  Lr RMSE with Standardization   0.079262\n",
       "52   UTX    Lr RMSE with Normalization   5.428245\n",
       "53   UTX  Lr RMSE with Standardization   0.061904\n",
       "54    VZ    Lr RMSE with Normalization   2.836252\n",
       "55    VZ  Lr RMSE with Standardization   0.011593\n",
       "56   WMT    Lr RMSE with Normalization   1.605468\n",
       "57   WMT  Lr RMSE with Standardization   0.013326\n",
       "58   XOM    Lr RMSE with Normalization   6.440570\n",
       "59   XOM  Lr RMSE with Standardization   0.101374"
      ]
     },
     "execution_count": 26,
     "metadata": {},
     "output_type": "execute_result"
    }
   ],
   "source": [
    "best_result_per_stock = allModelsResultForAllStocks()\n",
    "best_result_per_stock"
   ]
  },
  {
   "cell_type": "code",
   "execution_count": 27,
   "metadata": {},
   "outputs": [
    {
     "name": "stdout",
     "output_type": "stream",
     "text": [
      "Scores: [0.62664824 0.1445164  0.69654664 0.29709814 0.99641496 0.19579726\n",
      " 0.57715156 0.46043966 0.530605   2.63584021 0.23016131 1.18433349\n",
      " 0.66161294 0.52560959 0.35133547 0.8911959  1.40419374 0.4320499\n",
      " 0.22455947 0.74541043]\n",
      "Mean: 0.6905760166192197\n",
      "Standard deviation: 0.552556370514648\n"
     ]
    },
    {
     "name": "stderr",
     "output_type": "stream",
     "text": [
      "C:\\Users\\Arby\\Anaconda3\\lib\\site-packages\\sklearn\\utils\\deprecation.py:66: DeprecationWarning: Class Imputer is deprecated; Imputer was deprecated in version 0.20 and will be removed in 0.22. Import impute.SimpleImputer from sklearn instead.\n",
      "  warnings.warn(msg, category=DeprecationWarning)\n",
      "C:\\Users\\Arby\\Anaconda3\\lib\\site-packages\\sklearn\\utils\\deprecation.py:66: DeprecationWarning: Class Imputer is deprecated; Imputer was deprecated in version 0.20 and will be removed in 0.22. Import impute.SimpleImputer from sklearn instead.\n",
      "  warnings.warn(msg, category=DeprecationWarning)\n",
      "C:\\Users\\Arby\\Anaconda3\\lib\\site-packages\\sklearn\\utils\\deprecation.py:66: DeprecationWarning: Class Imputer is deprecated; Imputer was deprecated in version 0.20 and will be removed in 0.22. Import impute.SimpleImputer from sklearn instead.\n",
      "  warnings.warn(msg, category=DeprecationWarning)\n",
      "C:\\Users\\Arby\\Anaconda3\\lib\\site-packages\\sklearn\\utils\\deprecation.py:66: DeprecationWarning: Class Imputer is deprecated; Imputer was deprecated in version 0.20 and will be removed in 0.22. Import impute.SimpleImputer from sklearn instead.\n",
      "  warnings.warn(msg, category=DeprecationWarning)\n",
      "C:\\Users\\Arby\\Anaconda3\\lib\\site-packages\\sklearn\\utils\\deprecation.py:66: DeprecationWarning: Class Imputer is deprecated; Imputer was deprecated in version 0.20 and will be removed in 0.22. Import impute.SimpleImputer from sklearn instead.\n",
      "  warnings.warn(msg, category=DeprecationWarning)\n",
      "C:\\Users\\Arby\\Anaconda3\\lib\\site-packages\\sklearn\\utils\\deprecation.py:66: DeprecationWarning: Class Imputer is deprecated; Imputer was deprecated in version 0.20 and will be removed in 0.22. Import impute.SimpleImputer from sklearn instead.\n",
      "  warnings.warn(msg, category=DeprecationWarning)\n",
      "C:\\Users\\Arby\\Anaconda3\\lib\\site-packages\\sklearn\\utils\\deprecation.py:66: DeprecationWarning: Class Imputer is deprecated; Imputer was deprecated in version 0.20 and will be removed in 0.22. Import impute.SimpleImputer from sklearn instead.\n",
      "  warnings.warn(msg, category=DeprecationWarning)\n",
      "C:\\Users\\Arby\\Anaconda3\\lib\\site-packages\\sklearn\\utils\\deprecation.py:66: DeprecationWarning: Class Imputer is deprecated; Imputer was deprecated in version 0.20 and will be removed in 0.22. Import impute.SimpleImputer from sklearn instead.\n",
      "  warnings.warn(msg, category=DeprecationWarning)\n",
      "C:\\Users\\Arby\\Anaconda3\\lib\\site-packages\\sklearn\\utils\\deprecation.py:66: DeprecationWarning: Class Imputer is deprecated; Imputer was deprecated in version 0.20 and will be removed in 0.22. Import impute.SimpleImputer from sklearn instead.\n",
      "  warnings.warn(msg, category=DeprecationWarning)\n",
      "C:\\Users\\Arby\\Anaconda3\\lib\\site-packages\\sklearn\\utils\\deprecation.py:66: DeprecationWarning: Class Imputer is deprecated; Imputer was deprecated in version 0.20 and will be removed in 0.22. Import impute.SimpleImputer from sklearn instead.\n",
      "  warnings.warn(msg, category=DeprecationWarning)\n",
      "C:\\Users\\Arby\\Anaconda3\\lib\\site-packages\\sklearn\\utils\\deprecation.py:66: DeprecationWarning: Class Imputer is deprecated; Imputer was deprecated in version 0.20 and will be removed in 0.22. Import impute.SimpleImputer from sklearn instead.\n",
      "  warnings.warn(msg, category=DeprecationWarning)\n",
      "C:\\Users\\Arby\\Anaconda3\\lib\\site-packages\\sklearn\\utils\\deprecation.py:66: DeprecationWarning: Class Imputer is deprecated; Imputer was deprecated in version 0.20 and will be removed in 0.22. Import impute.SimpleImputer from sklearn instead.\n",
      "  warnings.warn(msg, category=DeprecationWarning)\n",
      "C:\\Users\\Arby\\Anaconda3\\lib\\site-packages\\sklearn\\utils\\deprecation.py:66: DeprecationWarning: Class Imputer is deprecated; Imputer was deprecated in version 0.20 and will be removed in 0.22. Import impute.SimpleImputer from sklearn instead.\n",
      "  warnings.warn(msg, category=DeprecationWarning)\n",
      "C:\\Users\\Arby\\Anaconda3\\lib\\site-packages\\sklearn\\utils\\deprecation.py:66: DeprecationWarning: Class Imputer is deprecated; Imputer was deprecated in version 0.20 and will be removed in 0.22. Import impute.SimpleImputer from sklearn instead.\n",
      "  warnings.warn(msg, category=DeprecationWarning)\n",
      "C:\\Users\\Arby\\Anaconda3\\lib\\site-packages\\sklearn\\utils\\deprecation.py:66: DeprecationWarning: Class Imputer is deprecated; Imputer was deprecated in version 0.20 and will be removed in 0.22. Import impute.SimpleImputer from sklearn instead.\n",
      "  warnings.warn(msg, category=DeprecationWarning)\n",
      "C:\\Users\\Arby\\Anaconda3\\lib\\site-packages\\sklearn\\utils\\deprecation.py:66: DeprecationWarning: Class Imputer is deprecated; Imputer was deprecated in version 0.20 and will be removed in 0.22. Import impute.SimpleImputer from sklearn instead.\n",
      "  warnings.warn(msg, category=DeprecationWarning)\n",
      "C:\\Users\\Arby\\Anaconda3\\lib\\site-packages\\sklearn\\utils\\deprecation.py:66: DeprecationWarning: Class Imputer is deprecated; Imputer was deprecated in version 0.20 and will be removed in 0.22. Import impute.SimpleImputer from sklearn instead.\n",
      "  warnings.warn(msg, category=DeprecationWarning)\n",
      "C:\\Users\\Arby\\Anaconda3\\lib\\site-packages\\sklearn\\utils\\deprecation.py:66: DeprecationWarning: Class Imputer is deprecated; Imputer was deprecated in version 0.20 and will be removed in 0.22. Import impute.SimpleImputer from sklearn instead.\n",
      "  warnings.warn(msg, category=DeprecationWarning)\n",
      "C:\\Users\\Arby\\Anaconda3\\lib\\site-packages\\sklearn\\utils\\deprecation.py:66: DeprecationWarning: Class Imputer is deprecated; Imputer was deprecated in version 0.20 and will be removed in 0.22. Import impute.SimpleImputer from sklearn instead.\n",
      "  warnings.warn(msg, category=DeprecationWarning)\n",
      "C:\\Users\\Arby\\Anaconda3\\lib\\site-packages\\sklearn\\utils\\deprecation.py:66: DeprecationWarning: Class Imputer is deprecated; Imputer was deprecated in version 0.20 and will be removed in 0.22. Import impute.SimpleImputer from sklearn instead.\n",
      "  warnings.warn(msg, category=DeprecationWarning)\n"
     ]
    }
   ],
   "source": [
    "from sklearn.model_selection import cross_val_score\n",
    "from scipy import stats\n",
    "\n",
    "def display_scores(scores):\n",
    "    print(\"Scores:\", scores)\n",
    "    print(\"Mean:\", scores.mean())\n",
    "    print(\"Standard deviation:\", scores.std())\n",
    "    \n",
    "kFolds=20\n",
    "\n",
    "lin_scores = cross_val_score(Lr_pipeline_std, X_stock_train, y_stock_train,\n",
    "                             scoring=\"neg_mean_squared_error\", cv=kFolds)\n",
    "control = lin_rmse_scores = np.sqrt(-lin_scores)\n",
    "display_scores(lin_rmse_scores)"
   ]
  },
  {
   "cell_type": "markdown",
   "metadata": {},
   "source": [
    "dalam sub bagian ini, akan dilakukan klasifikasi untuk memprediksi kelas saham investor sehingga membantu investor untuk mendiversifikasi portofolionya. \n",
    "Jika hasil mean value yang di kembalikan:\n",
    "\n",
    "a. <= 3.5, maka saham tersebut akan masuk ke dalam class Low\n",
    "\n",
    "b. >3.5 dan <=4.5, maka saham tersebut akan masuk ke dalam class Medium\n",
    "\n",
    "c. >4.5, maka saham tersebut akan masuk ke dalam class High"
   ]
  },
  {
   "cell_type": "code",
   "execution_count": 28,
   "metadata": {},
   "outputs": [],
   "source": [
    "#Untuk dapat linear model dari stock yg diketahui\n",
    "\n",
    "def linearModel(stock):\n",
    "    data_stock = data[data['stock'] == stock]\n",
    "    \n",
    "    X_data_stock = data_stock.drop(['date','stock','close'], axis=1)\n",
    "    y_data_stock = data_stock['close']\n",
    "\n",
    "    Lr_pipeline_std.fit(X_data_stock, y_data_stock)\n",
    "    model = Lr_pipeline_std.named_steps['lr']\n",
    "    \n",
    "    return model,data_stock"
   ]
  },
  {
   "cell_type": "code",
   "execution_count": 29,
   "metadata": {},
   "outputs": [],
   "source": [
    "def classify (meanValue):\n",
    "    if meanValue <=0.17:\n",
    "        return 'Low'\n",
    "    elif meanValue >0.17 and  meanValue <=0.32:\n",
    "        return 'Medium'\n",
    "    elif meanValue >0.32:\n",
    "        return 'High'"
   ]
  },
  {
   "cell_type": "markdown",
   "metadata": {},
   "source": [
    "Pada tahap ini, kami menggunakan model linear regression untuk mencari koefficient dari data dan mengklasifikasikannya ke dalam class low, medium, high"
   ]
  },
  {
   "cell_type": "code",
   "execution_count": 30,
   "metadata": {},
   "outputs": [],
   "source": [
    "#Pakai semua stock untuk training data\n",
    "stock_list = np.unique(data['stock'])\n",
    "\n",
    "df = pd.DataFrame(columns=['Stock','Class','Coef for open','Coef for high','Coef for low', 'Coef for close', 'Coef for volume','Coef for change within day','Coef for change from prev day'])\n",
    "for stock in stock_list:\n",
    "    \n",
    "# buat linear modelnya\n",
    "    model, data_stock = linearModel(stock)    \n",
    "    stock_features = np.concatenate((np.asarray([stock,classify(abs(data_stock[\"percent_change_price\"].mean()))]),model.coef_))\n",
    "    \n",
    "    df.loc[-1] = stock_features\n",
    "    df.index = df.index + 1\n",
    "    df = df.sort_index() \n",
    "    \n",
    "df = df.drop('Coef for close', axis=1)\n",
    "\n",
    "# saving feature coefficients and target class for 500 stocks \n",
    "df.to_csv('coeff1.csv', mode='a',header=['Stock','Class','Coef for open','Coef for high','Coef for low', 'Coef for volume','Coef for change within day','Coef for change from prev day'])"
   ]
  },
  {
   "cell_type": "markdown",
   "metadata": {},
   "source": [
    "# PENGKLASIFIKASIAN DATA\n",
    "Metode yang paling terkenal dalam melakukan pengklasifikasian data adalah KMeans dan KNN. Dimana KNN untuk melakukan klasifikasi pada data berlabel (supervised) dan KMeans untuk meng-cluster data yang tidak berlabel (unsupervised)"
   ]
  },
  {
   "cell_type": "markdown",
   "metadata": {},
   "source": [
    "# KNN\n",
    "digunakan untuk mengklasifikasikan data berdasarkan actual data dan prediksi class-nya. KNN  merupakan  salah satu  metode  klasifikasi  instance-based  learning, menggunakan  pendekatan  supervised-learning  sehingga membutuhkan  data  pelatihan  yang  sudah  dilabeli. Berdasarkan  data  latih  tersebut,  satu  titik  dapat diklasifikasikan  dengan  cara  menghitung  jarak  terdekat dengan  k-tetangga terdekat  di class  sekitarnya."
   ]
  },
  {
   "cell_type": "code",
   "execution_count": 31,
   "metadata": {},
   "outputs": [
    {
     "name": "stderr",
     "output_type": "stream",
     "text": [
      "C:\\Users\\Arby\\Anaconda3\\lib\\site-packages\\ipykernel_launcher.py:5: FutureWarning: \n",
      ".ix is deprecated. Please use\n",
      ".loc for label based indexing or\n",
      ".iloc for positional indexing\n",
      "\n",
      "See the documentation here:\n",
      "http://pandas.pydata.org/pandas-docs/stable/user_guide/indexing.html#ix-indexer-is-deprecated\n",
      "  \"\"\"\n",
      "C:\\Users\\Arby\\Anaconda3\\lib\\site-packages\\pandas\\core\\indexing.py:822: FutureWarning: \n",
      ".ix is deprecated. Please use\n",
      ".loc for label based indexing or\n",
      ".iloc for positional indexing\n",
      "\n",
      "See the documentation here:\n",
      "http://pandas.pydata.org/pandas-docs/stable/user_guide/indexing.html#ix-indexer-is-deprecated\n",
      "  retval = getattr(retval, self.name)._getitem_axis(key, axis=i)\n"
     ]
    }
   ],
   "source": [
    "# KNN\n",
    "import numpy as np\n",
    "from sklearn.model_selection import train_test_split\n",
    "\n",
    "X_class = np.array(df.ix[:, 2:8]) \n",
    "y_class = np.array(df['Class']) \n",
    "\n",
    "X_train_class, X_test_class, y_train_class, y_test_class = train_test_split(X_class, y_class, test_size=0.2)"
   ]
  },
  {
   "cell_type": "code",
   "execution_count": 32,
   "metadata": {},
   "outputs": [
    {
     "name": "stdout",
     "output_type": "stream",
     "text": [
      "Accuracy of KNN  0.16666666666666666\n"
     ]
    }
   ],
   "source": [
    "# akurasi KNN\n",
    "from sklearn.neighbors import KNeighborsClassifier\n",
    "from sklearn.metrics import accuracy_score\n",
    "# instantiate learning model (k = 3)\n",
    "knn = KNeighborsClassifier(n_neighbors=3)\n",
    "\n",
    "# fitting the model\n",
    "knn.fit(X_train_class, y_train_class)\n",
    "\n",
    "# predict the response\n",
    "pred = knn.predict(X_test_class)\n",
    "\n",
    "# evaluate accuracy\n",
    "print (\"Accuracy of KNN \", accuracy_score(y_test_class, pred))\n",
    "# print(y_test_class, pred)"
   ]
  },
  {
   "cell_type": "code",
   "execution_count": 33,
   "metadata": {},
   "outputs": [
    {
     "name": "stdout",
     "output_type": "stream",
     "text": [
      "              precision    recall  f1-score   support\n",
      "\n",
      "           0       0.80      1.00      0.89         4\n",
      "           1       1.00      0.50      0.67         2\n",
      "\n",
      "    accuracy                           0.83         6\n",
      "   macro avg       0.90      0.75      0.78         6\n",
      "weighted avg       0.87      0.83      0.81         6\n",
      "\n"
     ]
    }
   ],
   "source": [
    "from sklearn.metrics import confusion_matrix, classification_report\n",
    "from sklearn import preprocessing\n",
    "\n",
    "le = preprocessing.LabelEncoder()\n",
    "s = pd.DataFrame(y_test_class)\n",
    "p = pd.DataFrame(pred)\n",
    "knn_test = s.apply(le.fit_transform)\n",
    "knn_predict = p.apply(le.fit_transform)\n",
    "\n",
    "print(classification_report(knn_test, knn_predict))"
   ]
  },
  {
   "cell_type": "markdown",
   "metadata": {},
   "source": [
    "# Melakukan klasifikasi menggunakan KMeans\n",
    "Pada KMeans ini, akan digunakan data yang tidak berlabel dan akan dilakukan pemberian label ulang. KMeans merupakan metode klusterisasi  yang  membagi sekumpulan data latih  menjadi beberapa kluster  sesuai ciri tertentu.  Prinsip utama  metode  ini yakni  menentukan  titik tengah dari  kluster yang didapat, kemudian meminimalkan jarak antara titik tengah tersebut dengan data diluar kluster yang  akan  ditentukan  klusternya.  Nilai  k merepresentasikan  jumlah  kluster  yang  akan  dibuat."
   ]
  },
  {
   "cell_type": "markdown",
   "metadata": {},
   "source": [
    "a. Melakukan pemilihan nilai k yang sesuai menggunakan elbow"
   ]
  },
  {
   "cell_type": "code",
   "execution_count": 34,
   "metadata": {},
   "outputs": [
    {
     "data": {
      "image/png": "[encoded data removed]",
      "text/plain": [
       "<Figure size 432x288 with 1 Axes>"
      ]
     },
     "metadata": {
      "needs_background": "light"
     },
     "output_type": "display_data"
    }
   ],
   "source": [
    "from sklearn.cluster import KMeans\n",
    "from scipy.spatial.distance import cdist\n",
    "\n",
    "sse = []\n",
    "K = range(1,10)\n",
    "for k in K:\n",
    "    kmeanModel = KMeans(n_clusters=k).fit(X_class)\n",
    "    kmeanModel.fit(X_class)\n",
    "    sse.append(sum(np.min(cdist(X_class, kmeanModel.cluster_centers_, 'euclidean'), axis=1)) / X_class.shape[0])\n",
    "\n",
    "# Plot elbow\n",
    "plt.plot(K, sse, 'bx-')\n",
    "plt.xlabel('n cluster')\n",
    "plt.ylabel('SSE')\n",
    "plt.title('The Elbow Method showing the optimal k')\n",
    "plt.show()"
   ]
  },
  {
   "cell_type": "markdown",
   "metadata": {},
   "source": [
    "dari graph diatas, dapat dilihat bahwa nilai terbaik berada pada angka 3. Oleh karena itu, n_clusters yang digunakan dalam KMeans adalah 3"
   ]
  },
  {
   "cell_type": "code",
   "execution_count": 35,
   "metadata": {},
   "outputs": [
    {
     "name": "stderr",
     "output_type": "stream",
     "text": [
      "C:\\Users\\Arby\\Anaconda3\\lib\\site-packages\\ipykernel_launcher.py:1: FutureWarning: \n",
      ".ix is deprecated. Please use\n",
      ".loc for label based indexing or\n",
      ".iloc for positional indexing\n",
      "\n",
      "See the documentation here:\n",
      "http://pandas.pydata.org/pandas-docs/stable/user_guide/indexing.html#ix-indexer-is-deprecated\n",
      "  \"\"\"Entry point for launching an IPython kernel.\n",
      "C:\\Users\\Arby\\Anaconda3\\lib\\site-packages\\pandas\\core\\indexing.py:822: FutureWarning: \n",
      ".ix is deprecated. Please use\n",
      ".loc for label based indexing or\n",
      ".iloc for positional indexing\n",
      "\n",
      "See the documentation here:\n",
      "http://pandas.pydata.org/pandas-docs/stable/user_guide/indexing.html#ix-indexer-is-deprecated\n",
      "  retval = getattr(retval, self.name)._getitem_axis(key, axis=i)\n",
      "C:\\Users\\Arby\\Anaconda3\\lib\\site-packages\\ipykernel_launcher.py:10: FutureWarning: \n",
      ".ix is deprecated. Please use\n",
      ".loc for label based indexing or\n",
      ".iloc for positional indexing\n",
      "\n",
      "See the documentation here:\n",
      "http://pandas.pydata.org/pandas-docs/stable/user_guide/indexing.html#ix-indexer-is-deprecated\n",
      "  # Remove the CWD from sys.path while we load stuff.\n"
     ]
    }
   ],
   "source": [
    "X_class = np.array(df.ix[:, 2:8])\n",
    "y_class = np.array(df['Stock'])\n",
    "k_mean = KMeans(n_clusters = 3)\n",
    "\n",
    "k_mean_model = k_mean.fit(X_class)\n",
    "labels = k_mean_model.labels_\n",
    "centers = k_mean_model.cluster_centers_\n",
    "\n",
    "y_pred = k_mean_model.predict(X_class)\n",
    "pred_df = pd.DataFrame({'labels': y_pred, 'stock': df.ix[:, 0]})"
   ]
  },
  {
   "cell_type": "code",
   "execution_count": 36,
   "metadata": {},
   "outputs": [
    {
     "name": "stdout",
     "output_type": "stream",
     "text": [
      "Accuracy of K_Means  1.0\n"
     ]
    }
   ],
   "source": [
    "X_train_class, X_test_class, y_train_class, y_test_class = train_test_split(X_class, labels, test_size=0.2, random_state=42)\n",
    "\n",
    "label_pred = k_mean_model.predict(X_test_class)\n",
    "\n",
    "print (\"Accuracy of K_Means \", accuracy_score(y_test_class, label_pred))"
   ]
  },
  {
   "cell_type": "markdown",
   "metadata": {},
   "source": [
    "Hasil prediksi stock ke dalam 3 kelas (0-2):"
   ]
  },
  {
   "cell_type": "code",
   "execution_count": 37,
   "metadata": {
    "scrolled": true
   },
   "outputs": [
    {
     "data": {
      "text/html": [
       "<div>\n",
       "<style scoped>\n",
       "    .dataframe tbody tr th:only-of-type {\n",
       "        vertical-align: middle;\n",
       "    }\n",
       "\n",
       "    .dataframe tbody tr th {\n",
       "        vertical-align: top;\n",
       "    }\n",
       "\n",
       "    .dataframe thead th {\n",
       "        text-align: right;\n",
       "    }\n",
       "</style>\n",
       "<table border=\"1\" class=\"dataframe\">\n",
       "  <thead>\n",
       "    <tr style=\"text-align: right;\">\n",
       "      <th></th>\n",
       "      <th>labels</th>\n",
       "      <th>stock</th>\n",
       "    </tr>\n",
       "  </thead>\n",
       "  <tbody>\n",
       "    <tr>\n",
       "      <td>25</td>\n",
       "      <td>0</td>\n",
       "      <td>CAT</td>\n",
       "    </tr>\n",
       "    <tr>\n",
       "      <td>23</td>\n",
       "      <td>0</td>\n",
       "      <td>CVX</td>\n",
       "    </tr>\n",
       "    <tr>\n",
       "      <td>17</td>\n",
       "      <td>0</td>\n",
       "      <td>IBM</td>\n",
       "    </tr>\n",
       "    <tr>\n",
       "      <td>14</td>\n",
       "      <td>1</td>\n",
       "      <td>JPM</td>\n",
       "    </tr>\n",
       "    <tr>\n",
       "      <td>26</td>\n",
       "      <td>1</td>\n",
       "      <td>BAC</td>\n",
       "    </tr>\n",
       "    <tr>\n",
       "      <td>24</td>\n",
       "      <td>1</td>\n",
       "      <td>CSCO</td>\n",
       "    </tr>\n",
       "    <tr>\n",
       "      <td>21</td>\n",
       "      <td>1</td>\n",
       "      <td>DIS</td>\n",
       "    </tr>\n",
       "    <tr>\n",
       "      <td>20</td>\n",
       "      <td>1</td>\n",
       "      <td>GE</td>\n",
       "    </tr>\n",
       "    <tr>\n",
       "      <td>19</td>\n",
       "      <td>1</td>\n",
       "      <td>HD</td>\n",
       "    </tr>\n",
       "    <tr>\n",
       "      <td>16</td>\n",
       "      <td>1</td>\n",
       "      <td>INTC</td>\n",
       "    </tr>\n",
       "    <tr>\n",
       "      <td>13</td>\n",
       "      <td>1</td>\n",
       "      <td>KO</td>\n",
       "    </tr>\n",
       "    <tr>\n",
       "      <td>12</td>\n",
       "      <td>1</td>\n",
       "      <td>KRFT</td>\n",
       "    </tr>\n",
       "    <tr>\n",
       "      <td>29</td>\n",
       "      <td>1</td>\n",
       "      <td>AA</td>\n",
       "    </tr>\n",
       "    <tr>\n",
       "      <td>5</td>\n",
       "      <td>1</td>\n",
       "      <td>T</td>\n",
       "    </tr>\n",
       "    <tr>\n",
       "      <td>1</td>\n",
       "      <td>1</td>\n",
       "      <td>WMT</td>\n",
       "    </tr>\n",
       "    <tr>\n",
       "      <td>9</td>\n",
       "      <td>1</td>\n",
       "      <td>MRK</td>\n",
       "    </tr>\n",
       "    <tr>\n",
       "      <td>8</td>\n",
       "      <td>1</td>\n",
       "      <td>MSFT</td>\n",
       "    </tr>\n",
       "    <tr>\n",
       "      <td>2</td>\n",
       "      <td>1</td>\n",
       "      <td>VZ</td>\n",
       "    </tr>\n",
       "    <tr>\n",
       "      <td>7</td>\n",
       "      <td>1</td>\n",
       "      <td>PFE</td>\n",
       "    </tr>\n",
       "    <tr>\n",
       "      <td>6</td>\n",
       "      <td>1</td>\n",
       "      <td>PG</td>\n",
       "    </tr>\n",
       "    <tr>\n",
       "      <td>27</td>\n",
       "      <td>2</td>\n",
       "      <td>BA</td>\n",
       "    </tr>\n",
       "    <tr>\n",
       "      <td>3</td>\n",
       "      <td>2</td>\n",
       "      <td>UTX</td>\n",
       "    </tr>\n",
       "    <tr>\n",
       "      <td>4</td>\n",
       "      <td>2</td>\n",
       "      <td>TRV</td>\n",
       "    </tr>\n",
       "    <tr>\n",
       "      <td>10</td>\n",
       "      <td>2</td>\n",
       "      <td>MMM</td>\n",
       "    </tr>\n",
       "    <tr>\n",
       "      <td>11</td>\n",
       "      <td>2</td>\n",
       "      <td>MCD</td>\n",
       "    </tr>\n",
       "    <tr>\n",
       "      <td>18</td>\n",
       "      <td>2</td>\n",
       "      <td>HPQ</td>\n",
       "    </tr>\n",
       "    <tr>\n",
       "      <td>15</td>\n",
       "      <td>2</td>\n",
       "      <td>JNJ</td>\n",
       "    </tr>\n",
       "    <tr>\n",
       "      <td>28</td>\n",
       "      <td>2</td>\n",
       "      <td>AXP</td>\n",
       "    </tr>\n",
       "    <tr>\n",
       "      <td>22</td>\n",
       "      <td>2</td>\n",
       "      <td>DD</td>\n",
       "    </tr>\n",
       "    <tr>\n",
       "      <td>0</td>\n",
       "      <td>2</td>\n",
       "      <td>XOM</td>\n",
       "    </tr>\n",
       "  </tbody>\n",
       "</table>\n",
       "</div>"
      ],
      "text/plain": [
       "    labels stock\n",
       "25       0   CAT\n",
       "23       0   CVX\n",
       "17       0   IBM\n",
       "14       1   JPM\n",
       "26       1   BAC\n",
       "24       1  CSCO\n",
       "21       1   DIS\n",
       "20       1    GE\n",
       "19       1    HD\n",
       "16       1  INTC\n",
       "13       1    KO\n",
       "12       1  KRFT\n",
       "29       1    AA\n",
       "5        1     T\n",
       "1        1   WMT\n",
       "9        1   MRK\n",
       "8        1  MSFT\n",
       "2        1    VZ\n",
       "7        1   PFE\n",
       "6        1    PG\n",
       "27       2    BA\n",
       "3        2   UTX\n",
       "4        2   TRV\n",
       "10       2   MMM\n",
       "11       2   MCD\n",
       "18       2   HPQ\n",
       "15       2   JNJ\n",
       "28       2   AXP\n",
       "22       2    DD\n",
       "0        2   XOM"
      ]
     },
     "execution_count": 37,
     "metadata": {},
     "output_type": "execute_result"
    }
   ],
   "source": [
    "pred_df.sort_values('labels')"
   ]
  },
  {
   "cell_type": "markdown",
   "metadata": {},
   "source": [
    "Interpret clustering dengan menggunakan PCA:"
   ]
  },
  {
   "cell_type": "code",
   "execution_count": 38,
   "metadata": {},
   "outputs": [],
   "source": [
    "from sklearn.decomposition import PCA\n",
    "\n",
    "pca = PCA(n_components=2)\n",
    "bc_pca = pca.fit_transform(X_class)"
   ]
  },
  {
   "cell_type": "markdown",
   "metadata": {},
   "source": [
    "Hasil interpret (dibandingkan dengan real data):"
   ]
  },
  {
   "cell_type": "code",
   "execution_count": 39,
   "metadata": {},
   "outputs": [
    {
     "data": {
      "image/png": "[encoded data removed]",
      "text/plain": [
       "<Figure size 576x288 with 2 Axes>"
      ]
     },
     "metadata": {
      "needs_background": "light"
     },
     "output_type": "display_data"
    }
   ],
   "source": [
    "fig, (ax1, ax2) = plt.subplots(1, 2, figsize=(8,4))\n",
    "fig.suptitle('Visualizing stocks cluster')\n",
    "fig.subplots_adjust(top=0.85, wspace=0.5)\n",
    "ax1.set_title('Predict Labels')\n",
    "ax2.set_title('Actual Labels')\n",
    "\n",
    "for i in range(len(y_pred)):\n",
    "    if y_pred[i] == 0:\n",
    "        c1 = ax1.scatter(bc_pca[i,0], bc_pca[i,1], c='g', marker='.')\n",
    "    if y_pred[i] == 1:\n",
    "        c2 = ax1.scatter(bc_pca[i,0], bc_pca[i,1], c='r', marker='.')\n",
    "    if y_pred[i] == 2:\n",
    "        c3 = ax1.scatter(bc_pca[i,0], bc_pca[i,1], c='b', marker='.')    \n",
    "    \n",
    "    if labels[i] == 0:\n",
    "        c4 = ax2.scatter(bc_pca[i,0], bc_pca[i,1], c='g', marker='.')\n",
    "    if labels[i] == 1:\n",
    "        c5 = ax2.scatter(bc_pca[i,0], bc_pca[i,1], c='r', marker='.')\n",
    "    if labels[i] == 2:\n",
    "        c6 = ax2.scatter(bc_pca[i,0], bc_pca[i,1], c='b', marker='.')\n",
    "\n",
    "l1 = ax1.legend([c1, c2, c3], ['0', '1', '2'])\n",
    "l2 = ax2.legend([c4, c5, c6], ['0', '1', '2'])"
   ]
  },
  {
   "cell_type": "markdown",
   "metadata": {},
   "source": [
    "Dari gambar tersebut, kita dapat dengan jelas melihat bahwa pengelompokan telah bekerja dengan sangat baik dan itu terlihat\n",
    "pemisahan yang berbeda antara cluster dengan label 0, 1, dan 2. Hasilnya juga sangat mirip dengan label sebenarnya. Hal ini disebabkan, pada langkah ini, kami menggunakan KMeans untuk mengklasifikasikan data yang belum diberikan label menjadi data yang berlabel, oleh sebab itu, maka akurasinya (jika dilihat dari hasil visualisasi diatas) adalah 100%. Tujuan dari KMeans ini murni untuk mengklasifikasikan data yang belum diberikan label menjadi data yang berlabel untuk tujuan diversifikasi stock"
   ]
  },
  {
   "cell_type": "markdown",
   "metadata": {},
   "source": [
    "Dari hasil yang didapat, kmeans memiliki akurasi yang lebih tinggi dibandingkan dengan knn."
   ]
  },
  {
   "cell_type": "markdown",
   "metadata": {},
   "source": [
    "# FUTURE PREDICT BERDASARKAN STOCK YANG DIINPUT USER\n",
    "Dalam function ini, akan diprediksi harga closing price dari sebuah stock di waktu yang mendatang. Kami menggunakan linear regression untuk melakukan prediksinya."
   ]
  },
  {
   "cell_type": "code",
   "execution_count": 40,
   "metadata": {},
   "outputs": [],
   "source": [
    "import math\n",
    "from sklearn import preprocessing\n",
    "from matplotlib import style\n",
    "\n",
    "def future_predict():\n",
    "    stock_name =  data['stock'] == stock_customer\n",
    "    data_DIS = data[stock_name]\n",
    "    data_DIS = data_DIS.set_index(\"date\")\n",
    "    \n",
    "    df = data_DIS[['close']]\n",
    "    forecast_col = 'close'\n",
    "    df.fillna(value=-99999, inplace=True)\n",
    "    forecast_out = int(math.ceil(0.25 * len(df)))\n",
    "    df['label'] = df[forecast_col].shift(-forecast_out)\n",
    "    \n",
    "    X = np.array(df.drop(['label'], 1))\n",
    "    X = preprocessing.scale(X)\n",
    "    X_lately = X[-forecast_out:]\n",
    "    X = X[:-forecast_out]\n",
    "\n",
    "    df.dropna(inplace=True)\n",
    "\n",
    "    y = np.array(df['label'])\n",
    "\n",
    "    X_train, X_test, y_train, y_test = train_test_split(X, y, test_size=0.2, random_state=42)\n",
    "    clf = LinearRegression(n_jobs=-1)\n",
    "    clf.fit(X_train, y_train)\n",
    "    confidence = clf.score(X_test, y_test)\n",
    "    \n",
    "    forecast_set = clf.predict(X_lately)\n",
    "    \n",
    "    style.use('ggplot')\n",
    "    df['Forecast'] = np.nan\n",
    "    \n",
    "    last_date = df.iloc[-1].name\n",
    "    last_date = datetime.datetime.strptime(str(last_date), '%Y%m%d')\n",
    "    last_unix = last_date.timestamp()\n",
    "    one_week = 86400*7\n",
    "    next_unix = last_unix + one_week\n",
    "    \n",
    "    for i in forecast_set:\n",
    "        next_date = datetime.datetime.fromtimestamp(next_unix)\n",
    "        next_unix += 86400*7\n",
    "        df.loc[next_date] = [np.nan for _ in range(len(df.columns)-1)]+[i]\n",
    "    \n",
    "    df['close'].plot()\n",
    "    df['Forecast'].plot()\n",
    "\n",
    "    plt.legend()\n",
    "    plt.xlabel('Date')\n",
    "    plt.ylabel('Price')\n",
    "    plt.show()\n",
    "    \n",
    "    predictPrice = df.tail(7)\n",
    "    predictPrice.index =  pd.to_datetime(predictPrice.index).strftime('%d-%m-%Y')\n",
    "    \n",
    "\n",
    "    predictPrice = predictPrice.drop(columns=['close', 'label'])\n",
    "    print(predictPrice)"
   ]
  },
  {
   "cell_type": "markdown",
   "metadata": {},
   "source": [
    "# Testing\n",
    "Melakukan simulasi jika digunakan oleh investor. Langkah yang diambil sebagai berikut:"
   ]
  },
  {
   "cell_type": "markdown",
   "metadata": {},
   "source": [
    "a. Misalkan, investor tertarik untuk berinvestasi pada saham tertentu"
   ]
  },
  {
   "cell_type": "code",
   "execution_count": 41,
   "metadata": {},
   "outputs": [
    {
     "name": "stdout",
     "output_type": "stream",
     "text": [
      "Enter the stock name customer is interested in buying(we will use clustering) ? JPM\n",
      "JPM\n"
     ]
    }
   ],
   "source": [
    "# Input \n",
    "stock_customer = input(\"Enter the stock name customer is interested in buying(we will use clustering) ? \")\n",
    "print(stock_customer)"
   ]
  },
  {
   "cell_type": "markdown",
   "metadata": {},
   "source": [
    "b. Dari nama stock yang diinput user, akan ditunjukkan cluster dari stock tersebut"
   ]
  },
  {
   "cell_type": "code",
   "execution_count": 42,
   "metadata": {
    "scrolled": true
   },
   "outputs": [],
   "source": [
    "# Dengan Clustering\n",
    "customer_stock_model,stock_modified = linearModel(stock_customer)\n",
    "temp = np.delete(customer_stock_model.coef_, 3)\n",
    "\n",
    "customer_stock_class_pred = k_mean_model.predict([temp])"
   ]
  },
  {
   "cell_type": "code",
   "execution_count": 43,
   "metadata": {},
   "outputs": [
    {
     "name": "stdout",
     "output_type": "stream",
     "text": [
      "Cluster for customer Stock JPM  is          : [1]\n"
     ]
    }
   ],
   "source": [
    "print(\"Cluster for customer Stock\",stock_customer, \" is          :\",customer_stock_class_pred)"
   ]
  },
  {
   "cell_type": "code",
   "execution_count": 44,
   "metadata": {},
   "outputs": [
    {
     "data": {
      "text/html": [
       "<div>\n",
       "<style scoped>\n",
       "    .dataframe tbody tr th:only-of-type {\n",
       "        vertical-align: middle;\n",
       "    }\n",
       "\n",
       "    .dataframe tbody tr th {\n",
       "        vertical-align: top;\n",
       "    }\n",
       "\n",
       "    .dataframe thead th {\n",
       "        text-align: right;\n",
       "    }\n",
       "</style>\n",
       "<table border=\"1\" class=\"dataframe\">\n",
       "  <thead>\n",
       "    <tr style=\"text-align: right;\">\n",
       "      <th></th>\n",
       "      <th>labels</th>\n",
       "      <th>stock</th>\n",
       "    </tr>\n",
       "  </thead>\n",
       "  <tbody>\n",
       "    <tr>\n",
       "      <td>14</td>\n",
       "      <td>1</td>\n",
       "      <td>JPM</td>\n",
       "    </tr>\n",
       "  </tbody>\n",
       "</table>\n",
       "</div>"
      ],
      "text/plain": [
       "    labels stock\n",
       "14       1   JPM"
      ]
     },
     "execution_count": 44,
     "metadata": {},
     "output_type": "execute_result"
    }
   ],
   "source": [
    "#Cluster dari stocks\n",
    "pred_df[pred_df['stock'] == stock_customer]"
   ]
  },
  {
   "cell_type": "markdown",
   "metadata": {},
   "source": [
    "c. Menampilkan closing price dari stock di masa yang akan datang"
   ]
  },
  {
   "cell_type": "code",
   "execution_count": 45,
   "metadata": {},
   "outputs": [
    {
     "name": "stderr",
     "output_type": "stream",
     "text": [
      "C:\\Users\\Arby\\Anaconda3\\lib\\site-packages\\pandas\\core\\frame.py:4244: SettingWithCopyWarning: \n",
      "A value is trying to be set on a copy of a slice from a DataFrame\n",
      "\n",
      "See the caveats in the documentation: http://pandas.pydata.org/pandas-docs/stable/user_guide/indexing.html#returning-a-view-versus-a-copy\n",
      "  **kwargs\n",
      "C:\\Users\\Arby\\Anaconda3\\lib\\site-packages\\ipykernel_launcher.py:14: SettingWithCopyWarning: \n",
      "A value is trying to be set on a copy of a slice from a DataFrame.\n",
      "Try using .loc[row_indexer,col_indexer] = value instead\n",
      "\n",
      "See the caveats in the documentation: http://pandas.pydata.org/pandas-docs/stable/user_guide/indexing.html#returning-a-view-versus-a-copy\n",
      "  \n",
      "C:\\Users\\Arby\\Anaconda3\\lib\\site-packages\\ipykernel_launcher.py:21: SettingWithCopyWarning: \n",
      "A value is trying to be set on a copy of a slice from a DataFrame\n",
      "\n",
      "See the caveats in the documentation: http://pandas.pydata.org/pandas-docs/stable/user_guide/indexing.html#returning-a-view-versus-a-copy\n",
      "C:\\Users\\Arby\\Anaconda3\\lib\\site-packages\\ipykernel_launcher.py:33: SettingWithCopyWarning: \n",
      "A value is trying to be set on a copy of a slice from a DataFrame.\n",
      "Try using .loc[row_indexer,col_indexer] = value instead\n",
      "\n",
      "See the caveats in the documentation: http://pandas.pydata.org/pandas-docs/stable/user_guide/indexing.html#returning-a-view-versus-a-copy\n",
      "C:\\Users\\Arby\\Anaconda3\\lib\\site-packages\\pandas\\core\\indexing.py:205: SettingWithCopyWarning: \n",
      "A value is trying to be set on a copy of a slice from a DataFrame\n",
      "\n",
      "See the caveats in the documentation: http://pandas.pydata.org/pandas-docs/stable/user_guide/indexing.html#returning-a-view-versus-a-copy\n",
      "  self._setitem_with_indexer(indexer, value)\n"
     ]
    },
    {
     "data": {
      "image/png": "[encoded data removed]",
      "text/plain": [
       "<Figure size 432x288 with 1 Axes>"
      ]
     },
     "metadata": {},
     "output_type": "display_data"
    },
    {
     "name": "stdout",
     "output_type": "stream",
     "text": [
      "             Forecast\n",
      "13-05-2011  41.942597\n",
      "20-05-2011  41.928886\n",
      "27-05-2011  41.695784\n",
      "03-06-2011  40.859361\n",
      "10-06-2011  40.502853\n",
      "17-06-2011  40.331455\n",
      "24-06-2011  39.433329\n"
     ]
    }
   ],
   "source": [
    "future_predict()"
   ]
  },
  {
   "cell_type": "markdown",
   "metadata": {},
   "source": [
    "d. Hasil akurasi dari klasifikasi yang dilakukan"
   ]
  },
  {
   "cell_type": "code",
   "execution_count": 46,
   "metadata": {},
   "outputs": [],
   "source": [
    "from sklearn import preprocessing\n",
    "le = preprocessing.LabelEncoder()\n",
    "stock = pred_df.apply(le.fit_transform)"
   ]
  },
  {
   "cell_type": "code",
   "execution_count": 47,
   "metadata": {},
   "outputs": [
    {
     "data": {
      "text/plain": [
       "1.0"
      ]
     },
     "execution_count": 47,
     "metadata": {},
     "output_type": "execute_result"
    }
   ],
   "source": [
    "from sklearn.metrics import accuracy_score\n",
    "accuracy_score(stock['labels'], y_pred)"
   ]
  },
  {
   "cell_type": "code",
   "execution_count": 48,
   "metadata": {},
   "outputs": [
    {
     "name": "stdout",
     "output_type": "stream",
     "text": [
      "              precision    recall  f1-score   support\n",
      "\n",
      "           0       1.00      1.00      1.00         3\n",
      "           1       1.00      1.00      1.00        17\n",
      "           2       1.00      1.00      1.00        10\n",
      "\n",
      "    accuracy                           1.00        30\n",
      "   macro avg       1.00      1.00      1.00        30\n",
      "weighted avg       1.00      1.00      1.00        30\n",
      "\n"
     ]
    }
   ],
   "source": [
    "from sklearn.metrics import confusion_matrix,classification_report\n",
    "print(classification_report(stock['labels'], y_pred))"
   ]
  },
  {
   "cell_type": "markdown",
   "metadata": {},
   "source": [
    "Berarti, untuk investasi berikutnya, investor dapat membeli saham dari cluster yang berbeda untuk mencapai konsep diversifikasi saham dengan tujuan mengurangi resiko kegagalan. List cluster saham sebagai berikut:"
   ]
  },
  {
   "cell_type": "code",
   "execution_count": 49,
   "metadata": {},
   "outputs": [
    {
     "data": {
      "text/html": [
       "<div>\n",
       "<style scoped>\n",
       "    .dataframe tbody tr th:only-of-type {\n",
       "        vertical-align: middle;\n",
       "    }\n",
       "\n",
       "    .dataframe tbody tr th {\n",
       "        vertical-align: top;\n",
       "    }\n",
       "\n",
       "    .dataframe thead th {\n",
       "        text-align: right;\n",
       "    }\n",
       "</style>\n",
       "<table border=\"1\" class=\"dataframe\">\n",
       "  <thead>\n",
       "    <tr style=\"text-align: right;\">\n",
       "      <th></th>\n",
       "      <th>labels</th>\n",
       "      <th>stock</th>\n",
       "    </tr>\n",
       "  </thead>\n",
       "  <tbody>\n",
       "    <tr>\n",
       "      <td>25</td>\n",
       "      <td>0</td>\n",
       "      <td>CAT</td>\n",
       "    </tr>\n",
       "    <tr>\n",
       "      <td>23</td>\n",
       "      <td>0</td>\n",
       "      <td>CVX</td>\n",
       "    </tr>\n",
       "    <tr>\n",
       "      <td>17</td>\n",
       "      <td>0</td>\n",
       "      <td>IBM</td>\n",
       "    </tr>\n",
       "    <tr>\n",
       "      <td>14</td>\n",
       "      <td>1</td>\n",
       "      <td>JPM</td>\n",
       "    </tr>\n",
       "    <tr>\n",
       "      <td>26</td>\n",
       "      <td>1</td>\n",
       "      <td>BAC</td>\n",
       "    </tr>\n",
       "    <tr>\n",
       "      <td>24</td>\n",
       "      <td>1</td>\n",
       "      <td>CSCO</td>\n",
       "    </tr>\n",
       "    <tr>\n",
       "      <td>21</td>\n",
       "      <td>1</td>\n",
       "      <td>DIS</td>\n",
       "    </tr>\n",
       "    <tr>\n",
       "      <td>20</td>\n",
       "      <td>1</td>\n",
       "      <td>GE</td>\n",
       "    </tr>\n",
       "    <tr>\n",
       "      <td>19</td>\n",
       "      <td>1</td>\n",
       "      <td>HD</td>\n",
       "    </tr>\n",
       "    <tr>\n",
       "      <td>16</td>\n",
       "      <td>1</td>\n",
       "      <td>INTC</td>\n",
       "    </tr>\n",
       "    <tr>\n",
       "      <td>13</td>\n",
       "      <td>1</td>\n",
       "      <td>KO</td>\n",
       "    </tr>\n",
       "    <tr>\n",
       "      <td>12</td>\n",
       "      <td>1</td>\n",
       "      <td>KRFT</td>\n",
       "    </tr>\n",
       "    <tr>\n",
       "      <td>29</td>\n",
       "      <td>1</td>\n",
       "      <td>AA</td>\n",
       "    </tr>\n",
       "    <tr>\n",
       "      <td>5</td>\n",
       "      <td>1</td>\n",
       "      <td>T</td>\n",
       "    </tr>\n",
       "    <tr>\n",
       "      <td>1</td>\n",
       "      <td>1</td>\n",
       "      <td>WMT</td>\n",
       "    </tr>\n",
       "    <tr>\n",
       "      <td>9</td>\n",
       "      <td>1</td>\n",
       "      <td>MRK</td>\n",
       "    </tr>\n",
       "    <tr>\n",
       "      <td>8</td>\n",
       "      <td>1</td>\n",
       "      <td>MSFT</td>\n",
       "    </tr>\n",
       "    <tr>\n",
       "      <td>2</td>\n",
       "      <td>1</td>\n",
       "      <td>VZ</td>\n",
       "    </tr>\n",
       "    <tr>\n",
       "      <td>7</td>\n",
       "      <td>1</td>\n",
       "      <td>PFE</td>\n",
       "    </tr>\n",
       "    <tr>\n",
       "      <td>6</td>\n",
       "      <td>1</td>\n",
       "      <td>PG</td>\n",
       "    </tr>\n",
       "    <tr>\n",
       "      <td>27</td>\n",
       "      <td>2</td>\n",
       "      <td>BA</td>\n",
       "    </tr>\n",
       "    <tr>\n",
       "      <td>3</td>\n",
       "      <td>2</td>\n",
       "      <td>UTX</td>\n",
       "    </tr>\n",
       "    <tr>\n",
       "      <td>4</td>\n",
       "      <td>2</td>\n",
       "      <td>TRV</td>\n",
       "    </tr>\n",
       "    <tr>\n",
       "      <td>10</td>\n",
       "      <td>2</td>\n",
       "      <td>MMM</td>\n",
       "    </tr>\n",
       "    <tr>\n",
       "      <td>11</td>\n",
       "      <td>2</td>\n",
       "      <td>MCD</td>\n",
       "    </tr>\n",
       "    <tr>\n",
       "      <td>18</td>\n",
       "      <td>2</td>\n",
       "      <td>HPQ</td>\n",
       "    </tr>\n",
       "    <tr>\n",
       "      <td>15</td>\n",
       "      <td>2</td>\n",
       "      <td>JNJ</td>\n",
       "    </tr>\n",
       "    <tr>\n",
       "      <td>28</td>\n",
       "      <td>2</td>\n",
       "      <td>AXP</td>\n",
       "    </tr>\n",
       "    <tr>\n",
       "      <td>22</td>\n",
       "      <td>2</td>\n",
       "      <td>DD</td>\n",
       "    </tr>\n",
       "    <tr>\n",
       "      <td>0</td>\n",
       "      <td>2</td>\n",
       "      <td>XOM</td>\n",
       "    </tr>\n",
       "  </tbody>\n",
       "</table>\n",
       "</div>"
      ],
      "text/plain": [
       "    labels stock\n",
       "25       0   CAT\n",
       "23       0   CVX\n",
       "17       0   IBM\n",
       "14       1   JPM\n",
       "26       1   BAC\n",
       "24       1  CSCO\n",
       "21       1   DIS\n",
       "20       1    GE\n",
       "19       1    HD\n",
       "16       1  INTC\n",
       "13       1    KO\n",
       "12       1  KRFT\n",
       "29       1    AA\n",
       "5        1     T\n",
       "1        1   WMT\n",
       "9        1   MRK\n",
       "8        1  MSFT\n",
       "2        1    VZ\n",
       "7        1   PFE\n",
       "6        1    PG\n",
       "27       2    BA\n",
       "3        2   UTX\n",
       "4        2   TRV\n",
       "10       2   MMM\n",
       "11       2   MCD\n",
       "18       2   HPQ\n",
       "15       2   JNJ\n",
       "28       2   AXP\n",
       "22       2    DD\n",
       "0        2   XOM"
      ]
     },
     "execution_count": 49,
     "metadata": {},
     "output_type": "execute_result"
    }
   ],
   "source": [
    "pred_df.sort_values('labels')"
   ]
  },
  {
   "cell_type": "code",
   "execution_count": null,
   "metadata": {},
   "outputs": [],
   "source": []
  }
 ],
 "metadata": {
  "kernelspec": {
   "display_name": "Python 3",
   "language": "python",
   "name": "python3"
  },
  "language_info": {
   "codemirror_mode": {
    "name": "ipython",
    "version": 3
   },
   "file_extension": ".py",
   "mimetype": "text/x-python",
   "name": "python",
   "nbconvert_exporter": "python",
   "pygments_lexer": "ipython3",
   "version": "3.7.4"
  }
 },
 "nbformat": 4,
 "nbformat_minor": 2
}
